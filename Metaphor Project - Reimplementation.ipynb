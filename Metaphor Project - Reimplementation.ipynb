{
 "cells": [
  {
   "cell_type": "code",
   "execution_count": 1,
   "id": "49e0e84a",
   "metadata": {},
   "outputs": [],
   "source": [
    "import re\n",
    "import spacy\n",
    "import numpy as np\n",
    "import pandas as pd\n",
    "import seaborn as sns\n",
    "import matplotlib.pyplot as plt\n",
    "import gensim.downloader as gensim\n",
    "\n",
    "from typing import List, Union\n",
    "from string import punctuation\n",
    "from tqdm.auto import tqdm, trange\n",
    "from nltk.corpus import wordnet as wn\n",
    "from spacy.tokenizer import Tokenizer\n",
    "from lemminflect import getAllInflections\n",
    "from gensim.models.keyedvectors import KeyedVectors\n",
    "\n",
    "from sklearn.metrics import f1_score\n",
    "from sklearn.metrics import recall_score\n",
    "from sklearn.metrics import accuracy_score\n",
    "from sklearn.metrics import roc_curve, auc\n",
    "from sklearn.metrics import precision_score\n",
    "from sklearn.metrics import precision_recall_curve\n",
    "from sklearn.metrics.pairwise import cosine_similarity"
   ]
  },
  {
   "cell_type": "code",
   "execution_count": 2,
   "id": "93b46f1b",
   "metadata": {},
   "outputs": [],
   "source": [
    "class GensimEmbedder:\n",
    "    def __init__(self, embd_name: str = 'glove-wiki-gigaword-50', file=False):\n",
    "        if file:\n",
    "            self.embeddings = KeyedVectors.load_word2vec_format(embed_name, binary=False)\n",
    "        else:\n",
    "            self.embeddings = gensim.load(embd_name)\n",
    "        \n",
    "        self.dim = self.embeddings.vectors.shape[1]\n",
    "        \n",
    "        self.oov_embedding = np.mean(self.embeddings.vectors, axis=0)\n",
    "        assert self.oov_embedding.shape[0] == self.dim\n",
    "    \n",
    "    def __contains__(self, obj):\n",
    "        return obj in self.embeddings\n",
    "    \n",
    "    def embed_token(self, token: str):\n",
    "        try:\n",
    "            return self.embeddings[token]\n",
    "        except KeyError:\n",
    "            return self.oov_embedding\n",
    "    \n",
    "    def embed_context(self, context: List[str]):\n",
    "        token_embeddings = [self.embed_token(token) for token in context if token in self.embeddings]\n",
    "        if len(token_embeddings) == 0:\n",
    "            return self.oov_embedding\n",
    "        else:\n",
    "            return np.mean(np.stack(token_embeddings), axis=0)"
   ]
  },
  {
   "cell_type": "code",
   "execution_count": 3,
   "id": "f15a546f",
   "metadata": {},
   "outputs": [],
   "source": [
    "class WordNetCandidates:\n",
    "    \"\"\"\n",
    "    Retrieves candidate replacements of `target` from WordNet.\n",
    "    Takes synonym and hypernym lemmas from all or only verb senses.\n",
    "    Optionally augments list by inflections.\n",
    "    \n",
    "    :param target:          Target token\n",
    "    :param only_verb:       Whether to only consider verb senses\n",
    "    :param use_inflections: Whether to add inflections\n",
    "    :returns:               List of WordNet candidates\n",
    "    \"\"\"\n",
    "    def __init__(self, only_verb: bool = True, use_inflections: bool = True):\n",
    "        self.only_verb = only_verb\n",
    "        self.use_inflections = use_inflections\n",
    "\n",
    "\n",
    "    def _get_inflections(self, candidates: List[str]) -> List[str]:\n",
    "        inflected_candidates = []\n",
    "        \n",
    "        for candidate in candidates:\n",
    "            inflected_candidates.append(candidate)\n",
    "        \n",
    "            inflections = getAllInflections(candidate)\n",
    "            \n",
    "            # Only use verb senses (optional)\n",
    "            if self.only_verb:\n",
    "                inflections = {\n",
    "                    pos: forms for pos, forms in inflections.items()\n",
    "                    if pos.lower().startswith('v')\n",
    "                }\n",
    "            \n",
    "            for forms in inflections.values():\n",
    "                inflected_candidates.extend(list(forms))\n",
    "        \n",
    "        return inflected_candidates\n",
    "\n",
    "\n",
    "    def __call__(self, target: str) -> List[str]:\n",
    "        candidates = []\n",
    "    \n",
    "        # Find all relevant synsets\n",
    "        target_synsets = wn.synsets(target)\n",
    "        hypernym_synsets = []\n",
    "        for target_synset in target_synsets:\n",
    "            hypernym_synsets.extend(list(target_synset.hypernyms()))\n",
    "    \n",
    "        # Collect lemmata (as str)\n",
    "        for synset in target_synsets + hypernym_synsets:\n",
    "            # Only use verb senses (optional)\n",
    "            if self.only_verb and synset.pos() != 'v':\n",
    "                continue\n",
    "        \n",
    "            candidates.extend([lemma.name() for lemma in synset.lemmas()])\n",
    "    \n",
    "        # Add inflections using lemminflect (optional)\n",
    "        if self.use_inflections:\n",
    "            candidates = self._get_inflections(candidates)\n",
    "    \n",
    "        # Sort & clean candidates\n",
    "        candidates = candidates + [target]\n",
    "        \n",
    "        return list(sorted(set(candidates)))"
   ]
  },
  {
   "cell_type": "code",
   "execution_count": 4,
   "id": "17e6bb92",
   "metadata": {},
   "outputs": [],
   "source": [
    "class MetaphorDetector:\n",
    "    def __init__(self,\n",
    "                 embedder: GensimEmbedder,\n",
    "                 get_candidate_words: WordNetCandidates):\n",
    "        self.embedder = embedder\n",
    "        self.get_candidate_words = get_candidate_words\n",
    "        \n",
    "    \n",
    "    def get_best_fit_word(self, target: str, context: List[str]) -> str:\n",
    "        candidates = self.get_candidate_words(target)\n",
    "        candidates = [candidate for candidate in candidates\n",
    "                      if candidate in self.embedder or candidate == target]\n",
    "        \n",
    "        context_embedding = self.embedder.embed_context(context)\n",
    "        context_embedding = np.atleast_2d(context_embedding)\n",
    "        \n",
    "        candidate_embeddings = [\n",
    "            self.embedder.embed_token(candidate) for candidate in candidates\n",
    "        ]\n",
    "        candidate_embeddings = np.stack(candidate_embeddings)\n",
    "        \n",
    "        similarities = cosine_similarity(context_embedding, candidate_embeddings)\n",
    "        similarities = similarities.reshape(-1)\n",
    "        \n",
    "        return candidates[np.argmax(similarities)]\n",
    "\n",
    "    \n",
    "    def predict_scores(self,\n",
    "                       targets: Union[str, List[str]],\n",
    "                       contexts: Union[List[str], List[List[str]]]) -> List[float]:\n",
    "        if isinstance(targets, str):\n",
    "            targets = [targets]\n",
    "            contexts = [contexts]\n",
    "            \n",
    "        assert len(targets) == len(contexts)\n",
    "        \n",
    "        probs = []\n",
    "        for target, context in zip(targets, contexts):\n",
    "            #if target not in self.embedder:\n",
    "            #    probs.append(np.nan)\n",
    "            #    continue\n",
    "            \n",
    "            fit_word = self.get_best_fit_word(target, context)\n",
    "            \n",
    "            target_embedding = self.embedder.embed_token(target)\n",
    "            target_embedding = np.atleast_2d(target_embedding)\n",
    "            \n",
    "            fit_word_embedding = embedder.embed_token(fit_word)\n",
    "            fit_word_embedding = np.atleast_2d(fit_word_embedding)\n",
    "            \n",
    "            S = cosine_similarity(target_embedding, fit_word_embedding)\n",
    "            S = S.reshape(-1)\n",
    "            S = S.item()\n",
    "            probs.append(S)\n",
    "        \n",
    "        return np.array(probs)"
   ]
  },
  {
   "cell_type": "code",
   "execution_count": 5,
   "id": "aa3a244a",
   "metadata": {},
   "outputs": [],
   "source": [
    "def evaluate(scores, labels):\n",
    "    results = dict()\n",
    "    \n",
    "    results['scores'] = np.array(scores).copy()\n",
    "    results['labels'] = np.array(labels).copy()\n",
    "    \n",
    "    scores = 1 - scores\n",
    "    scores = np.clip(scores, 0.0, 1.0)\n",
    "    \n",
    "    results['precision_recall_curve'] = precision_recall_curve(labels, scores)[:2]\n",
    "    results['roc_curve'] = roc_curve(labels, scores)[:2]\n",
    "    results['roc_auc'] = auc(*results['roc_curve'])\n",
    "    \n",
    "    thresholds = np.linspace(0.0, 0.99, 98)\n",
    "    y_true = labels.astype(np.int64)\n",
    "    results['thresholds'] = thresholds\n",
    "    results['metrics'] = dict()\n",
    "    \n",
    "    for tau in thresholds:\n",
    "        y_pred = (scores > tau).astype(np.int64)\n",
    "        results['metrics'][tau] = {\n",
    "            'y_pred': y_pred.copy(),\n",
    "            'precision': precision_score(y_true, y_pred, zero_division=0.0),\n",
    "            'recall': recall_score(y_true, y_pred, zero_division=0.0),\n",
    "            'f1': f1_score(y_true, y_pred, zero_division=0.0),\n",
    "            'accuracy': accuracy_score(y_true, y_pred)\n",
    "        }\n",
    "    \n",
    "    f1 = [results['metrics'][tau]['f1'] for tau in thresholds]\n",
    "    results['best_tau'] = thresholds[np.argmax(f1)]\n",
    "    \n",
    "    return results"
   ]
  },
  {
   "cell_type": "code",
   "execution_count": 6,
   "id": "2101747c",
   "metadata": {},
   "outputs": [],
   "source": [
    "def display_score_distribution(scores, labels, filename=None):\n",
    "    fig, (ax1, ax2, ax3) = plt.subplots(1, 3, figsize=(15, 4), sharex=True, sharey=True)\n",
    "    bins = 100\n",
    "    align = 'left'\n",
    "    xx = 0.5\n",
    "    font_size = 14\n",
    "    plt.rcParams['font.size'] = font_size\n",
    "\n",
    "    # Overall statistics\n",
    "    #ax1.hist(scores, bins=100, color='blue')\n",
    "    #ax1.set_xlabel('Cosine distance in [-1.0, 1.0]')\n",
    "    #ax1.set_ylabel('# Similarities (binned)')\n",
    "    #ax1.set_title('Combined statistics')\n",
    "    \n",
    "    sns.histplot(scores, kde=False, bins=bins, ax=ax1,\n",
    "                 stat='density', color='blue', element='step',\n",
    "                 label='Overall statistics')\n",
    "    ax1.spines['right'].set_visible(False)\n",
    "    ax1.spines['top'].set_visible(False)\n",
    "    ax1.axvline(np.median(scores),\n",
    "                color='black', linestyle='dashed')\n",
    "    ax1.set_title('Overall statistics', pad=0.4)\n",
    "    #ax1.set_ylim([0, ax1.get_ylim()[1]])\n",
    "    ax1.set_xlabel('Cosine similarity in [-1.0, 1.0]')\n",
    "    \n",
    "    med = np.median(scores)\n",
    "    ax2.text(xx, 0.6, r'$Med={:.2f}$'.format(med),\n",
    "                    horizontalalignment=align,\n",
    "                    verticalalignment='center',\n",
    "                    transform=ax1.transAxes,\n",
    "                    size=12)\n",
    "\n",
    "    # Metaphor statistics\n",
    "    #ax2.hist(scores[labels == 1], bins=100, color='tomato', label='Metaphor statistics')\n",
    "    #ax2.set_xlabel('Cosine similarity in [-1.0, 1.0]')\n",
    "    #ax2.set_ylabel('# Similarities (binned)')\n",
    "    #ax2.set_title('Metaphor statistics')\n",
    "    \n",
    "    sns.histplot(scores[labels == 1], kde=False, bins=bins, ax=ax2,\n",
    "                 stat='density', color='tomato', element='step',\n",
    "                 label='Metaphor statistics')\n",
    "    ax2.spines['right'].set_visible(False)\n",
    "    ax2.spines['top'].set_visible(False)\n",
    "    ax2.axvline(np.median(scores[labels == 1]),\n",
    "                color='black', linestyle='dashed')\n",
    "    ax2.set_title('Metaphor statistics', pad=0.4)\n",
    "    #ax2.set_ylim([0, ax2.get_ylim()[1]])\n",
    "    ax2.set_xlabel('Cosine similarity in [-1.0, 1.0]')\n",
    "    \n",
    "    med = np.median(scores[labels == 1])\n",
    "    ax2.text(xx, 0.6, r'$Med={:.2f}$'.format(med),\n",
    "                    horizontalalignment=align,\n",
    "                    verticalalignment='center',\n",
    "                    transform=ax2.transAxes,\n",
    "                    size=12)\n",
    "    \n",
    "\n",
    "    # Literal statistics\n",
    "    sns.histplot(scores[labels == 0], kde=False, bins=bins, ax=ax3,\n",
    "                 stat='density', color='forestgreen', element='step',\n",
    "                 label='Literal statistics')\n",
    "    ax3.spines['right'].set_visible(False)\n",
    "    ax3.spines['top'].set_visible(False)\n",
    "    ax3.axvline(np.median(scores[labels == 0]),\n",
    "                color='black', linestyle='dashed')\n",
    "    ax3.set_title('Literal statistics', pad=0.4)\n",
    "    #ax3.set_ylim([0, ax3.get_ylim()[1]])\n",
    "    #ax3.hist(scores[labels == 0], bins=100, color='forestgreen', label='Literal statistics')\n",
    "    ax3.set_xlabel('Cosine similarity in [-1.0, 1.0]')\n",
    "    #ax3.set_ylabel('# Similarities (binned)')\n",
    "    #ax3.set_title('Literal statistics')\n",
    "    #ax2.legend()\n",
    "    med = np.median(scores[labels == 0])\n",
    "    ax3.text(xx, 0.6, r'$Med={:.2f}$'.format(med),\n",
    "                    horizontalalignment=align,\n",
    "                    verticalalignment='center',\n",
    "                    transform=ax3.transAxes,\n",
    "                    size=12)\n",
    "    \n",
    "    \n",
    "    if filename is not None:\n",
    "        fig.savefig(\"figures/{}.png\".format(filename), dpi=300)\n",
    "\n",
    "    plt.show()\n",
    "\n",
    "def display_score_statistics(scores, labels):\n",
    "    #full_scores = scores.copy()\n",
    "    #full_labels = labels.copy()\n",
    "    \n",
    "    #mask = (0.01 < full_scores) & (full_scores < 0.99)\n",
    "    #scores = full_scores[mask]\n",
    "    #labels = full_labels[mask]\n",
    "    \n",
    "    scores = np.round(scores, 2)\n",
    "\n",
    "    all_scores_summary = pd.DataFrame(data=scores, index=None, columns=[\"All scores\"]).describe()\n",
    "\n",
    "    metaphor_scores_summary = pd.DataFrame(data=scores[labels == 1], index=None, columns=[\"Metaphor scores\"])\n",
    "    metaphor_scores_summary = metaphor_scores_summary.describe()\n",
    "\n",
    "    literal_scores_summary = pd.DataFrame(data=scores[labels == 0], index=None, columns=[\"Literal scores\"])\n",
    "    literal_scores_summary = literal_scores_summary.describe()\n",
    "\n",
    "    stats = pd.concat([all_scores_summary, metaphor_scores_summary, literal_scores_summary], axis=1)\n",
    "    return stats\n",
    "\n",
    "\n",
    "def display_evaluation_metrics(results):\n",
    "    metrics = pd.DataFrame.from_records(\n",
    "        [{metric: score for metric, score in results['metrics'][tau].items()\n",
    "          if metric != 'y_pred'}\n",
    "         for tau in results['thresholds']]\n",
    "    )\n",
    "    \n",
    "    fig, (ax1, ax2, ax3) = plt.subplots(1, 3, figsize=(13, 13), sharex=True, sharey=True)\n",
    "\n",
    "    # Precision-Recall curve\n",
    "    precision, recall = results['precision_recall_curve']\n",
    "    ax1.step(recall, precision, where='post')\n",
    "    ax1.set_xlabel('Recall')\n",
    "    ax1.set_ylabel('Precision')\n",
    "    ax1.set_ylim([0.0, 1.05])\n",
    "    ax1.set_xlim([0.0, 1.0])\n",
    "    ax1.set_title(\"Precision-Recall curve\")\n",
    "    ax1.set_aspect('equal', adjustable='box')\n",
    "\n",
    "    # Receiver-Operating charateristic\n",
    "    lw = 2\n",
    "    fpr, tpr = results['roc_curve']\n",
    "    roc_auc = results['roc_auc']\n",
    "    ax2.plot(fpr, tpr, color='darkorange',\n",
    "             lw=lw, label='ROC curve (area = %0.2f)' % roc_auc)\n",
    "    ax2.plot([0, 1], [0, 1], color='navy', lw=lw, linestyle='--')\n",
    "    ax2.set_xlabel('False Positive Rate')\n",
    "    ax2.set_ylabel('True Positive Rate')\n",
    "    ax2.set_ylim([0.0, 1.05])\n",
    "    ax2.set_xlim([0.0, 1.0])\n",
    "    ax2.set_title('Receiver operating characteristic')\n",
    "    ax2.legend(loc=\"upper left\")\n",
    "    ax2.set_aspect('equal', adjustable='box')\n",
    "\n",
    "    # Metrics vs. threshold\n",
    "    for metric in metrics:\n",
    "        ax3.plot(results['thresholds'], metrics[metric], label=metric)\n",
    "\n",
    "    ax3.legend(loc=\"upper left\")\n",
    "    ax3.set_xlabel(\"Threshold\")\n",
    "    ax3.set_ylabel(\"Metric\")\n",
    "    ax3.set_aspect('equal', adjustable='box')\n",
    "    ax3.set_title(\"Performance\")\n",
    "\n",
    "    plt.show()"
   ]
  },
  {
   "cell_type": "code",
   "execution_count": 7,
   "id": "440fe632",
   "metadata": {},
   "outputs": [],
   "source": [
    "# Use implementation from\n",
    "# https://github.com/Sleemanmunk/approximate-randomization/blob/master/approximate_randomization.py\n",
    "\n",
    "def approximate_randomization_test(sample1, sample2, score_func, repetitions=10000):\n",
    "    assert len(sample1) == len(sample2)\n",
    "    n = len(sample1)\n",
    "    \n",
    "    true_diff = np.abs(score_func(sample1) - score_func(sample2))\n",
    "    \n",
    "    c = 0\n",
    "    for _ in range(repetitions):\n",
    "        shuffle = np.random.rand(n)  < 0.5\n",
    "        sample1_new = np.select([shuffle, ~ shuffle], [sample1, sample2])\n",
    "        sample2_new = np.select([shuffle, ~ shuffle], [sample2, sample1])\n",
    "        score_diff = np.abs(score_func(sample1_new) - score_func(sample2_new))\n",
    "        \n",
    "        c += (1 if score_diff >= true_diff else 0)\n",
    "    \n",
    "    return (c+1) / (repetitions + 1)"
   ]
  },
  {
   "cell_type": "markdown",
   "id": "53160a7b",
   "metadata": {},
   "source": [
    "### 1st experiment: MohX-Full data"
   ]
  },
  {
   "cell_type": "code",
   "execution_count": 8,
   "id": "5e3f21ca",
   "metadata": {},
   "outputs": [],
   "source": [
    "# Load Mohammad et al. data\n",
    "data = pd.read_csv(\"data/mohammad.txt\", sep='\\t', skipfooter=2, engine='python')\n",
    "\n",
    "# Targets\n",
    "targets = data['term'].tolist()\n",
    "\n",
    "# Contexts\n",
    "nlp = spacy.load(\"en_core_web_sm\", disable = ['ner', 'parser', 'textcat'])\n",
    "contexts = data['sentence'].tolist()\n",
    "contexts = [re.sub(r'<b>.*</b>', '', context.lower()) for context in contexts]   # Remove targets\n",
    "contexts = [\n",
    "    [token.lemma_ for token in nlp(context) \n",
    "     if not token.is_stop and bool(token.lemma_.strip(punctuation).strip())]\n",
    "    for context in contexts\n",
    "]\n",
    "\n",
    "# Labels\n",
    "labels = data['class']\n",
    "labels = [(1 if label == 'metaphorical' else 0) for label in labels]\n",
    "labels_ = np.array(labels)\n",
    "\n",
    "# Confidences\n",
    "confidences = data['confidence']\n",
    "confidences = np.array(confidences)\n",
    "\n",
    "assert len(targets) == len(contexts) == len(labels) == len(confidences)"
   ]
  },
  {
   "cell_type": "code",
   "execution_count": 9,
   "id": "3024fdbf",
   "metadata": {},
   "outputs": [
    {
     "name": "stdout",
     "output_type": "stream",
     "text": [
      "Number of metaphorical targets: 410\n",
      "Number of literal targets: 1229\n"
     ]
    }
   ],
   "source": [
    "print(\"Number of metaphorical targets: {}\".format(np.sum(labels)))\n",
    "print(\"Number of literal targets: {}\".format(len(labels) - np.sum(labels)))"
   ]
  },
  {
   "cell_type": "code",
   "execution_count": 10,
   "id": "0e960a35",
   "metadata": {},
   "outputs": [],
   "source": [
    "embedders = {\n",
    "    'glove': GensimEmbedder(\"glove-wiki-gigaword-300\"),\n",
    "    'word2vec': GensimEmbedder(\"word2vec-google-news-300\"),\n",
    "    'fasttext': GensimEmbedder(\"fasttext-wiki-news-subwords-300\")\n",
    "}"
   ]
  },
  {
   "cell_type": "code",
   "execution_count": 11,
   "id": "27611927",
   "metadata": {},
   "outputs": [],
   "source": [
    "candidates = {\n",
    "    'inflections + only verbs': WordNetCandidates(use_inflections=True, only_verb=True),\n",
    "    'inflections + all senses': WordNetCandidates(use_inflections=True, only_verb=False),\n",
    "    'no inflections + only verbs': WordNetCandidates(use_inflections=False, only_verb=True),\n",
    "    'no inflections + all senses': WordNetCandidates(use_inflections=False, only_verb=False),\n",
    "}"
   ]
  },
  {
   "cell_type": "code",
   "execution_count": 12,
   "id": "187be7a9",
   "metadata": {},
   "outputs": [],
   "source": [
    "results = dict()\n",
    "for embedding_name, embedder in embedders.items():\n",
    "    for mode, candidate_finder in candidates.items():\n",
    "        classifier = MetaphorDetector(embedder, candidate_finder)\n",
    "        \n",
    "        scores_ = classifier.predict_scores(targets, contexts)\n",
    "        #mask = ~ np.isnan(scores_)\n",
    "        #scores = scores_[mask]\n",
    "        #labels = labels_[mask]\n",
    "        scores = scores_.copy()\n",
    "        labels = labels_.copy()\n",
    "        \n",
    "        results[(embedding_name, mode)] = evaluate(scores, labels)"
   ]
  },
  {
   "cell_type": "code",
   "execution_count": 14,
   "id": "298bc8fd",
   "metadata": {},
   "outputs": [
    {
     "data": {
      "text/html": [
       "<div>\n",
       "<style scoped>\n",
       "    .dataframe tbody tr th:only-of-type {\n",
       "        vertical-align: middle;\n",
       "    }\n",
       "\n",
       "    .dataframe tbody tr th {\n",
       "        vertical-align: top;\n",
       "    }\n",
       "\n",
       "    .dataframe thead th {\n",
       "        text-align: right;\n",
       "    }\n",
       "</style>\n",
       "<table border=\"1\" class=\"dataframe\">\n",
       "  <thead>\n",
       "    <tr style=\"text-align: right;\">\n",
       "      <th></th>\n",
       "      <th>fasttext</th>\n",
       "      <th>glove</th>\n",
       "      <th>word2vec</th>\n",
       "    </tr>\n",
       "  </thead>\n",
       "  <tbody>\n",
       "    <tr>\n",
       "      <th>inflections + all senses</th>\n",
       "      <td>0.45</td>\n",
       "      <td>0.46</td>\n",
       "      <td>0.43</td>\n",
       "    </tr>\n",
       "    <tr>\n",
       "      <th>inflections + only verbs</th>\n",
       "      <td>0.45</td>\n",
       "      <td>0.46</td>\n",
       "      <td>0.43</td>\n",
       "    </tr>\n",
       "    <tr>\n",
       "      <th>no inflections + all senses</th>\n",
       "      <td>0.46</td>\n",
       "      <td>0.45</td>\n",
       "      <td>0.43</td>\n",
       "    </tr>\n",
       "    <tr>\n",
       "      <th>no inflections + only verbs</th>\n",
       "      <td>0.45</td>\n",
       "      <td>0.47</td>\n",
       "      <td>0.42</td>\n",
       "    </tr>\n",
       "  </tbody>\n",
       "</table>\n",
       "</div>"
      ],
      "text/plain": [
       "                             fasttext  glove  word2vec\n",
       "inflections + all senses         0.45   0.46      0.43\n",
       "inflections + only verbs         0.45   0.46      0.43\n",
       "no inflections + all senses      0.46   0.45      0.43\n",
       "no inflections + only verbs      0.45   0.47      0.42"
      ]
     },
     "execution_count": 14,
     "metadata": {},
     "output_type": "execute_result"
    }
   ],
   "source": [
    "best_f1 = np.zeros((len(candidates.keys()), len(embedders.keys())))\n",
    "modes = list(sorted(candidates.keys()))\n",
    "embedding_names = list(sorted(embedders.keys()))\n",
    "\n",
    "for i, mode in enumerate(modes):\n",
    "    for j, embedding_name in enumerate(embedding_names):\n",
    "        current_results = results[(embedding_name, mode)]\n",
    "        best_tau = current_results['best_tau']\n",
    "        best_f1[i, j] = current_results['metrics'][best_tau]['f1']\n",
    "\n",
    "best_f1_table = pd.DataFrame(data=np.round(best_f1, 2), index=modes, columns=embedding_names)\n",
    "best_f1_table"
   ]
  },
  {
   "cell_type": "code",
   "execution_count": 15,
   "id": "60dc71d7",
   "metadata": {},
   "outputs": [
    {
     "name": "stdout",
     "output_type": "stream",
     "text": [
      "\\begin{tabular}{lrrr}\n",
      "\\toprule\n",
      "{} &  fasttext &  glove &  word2vec \\\\\n",
      "\\midrule\n",
      "inflections + all senses    &      0.45 &   0.46 &      0.43 \\\\\n",
      "inflections + only verbs    &      0.45 &   0.46 &      0.43 \\\\\n",
      "no inflections + all senses &      0.46 &   0.45 &      0.43 \\\\\n",
      "no inflections + only verbs &      0.45 &   0.47 &      0.42 \\\\\n",
      "\\bottomrule\n",
      "\\end{tabular}\n",
      "\n"
     ]
    }
   ],
   "source": [
    "print(best_f1_table.to_latex())"
   ]
  },
  {
   "cell_type": "code",
   "execution_count": 16,
   "id": "895a790f",
   "metadata": {},
   "outputs": [
    {
     "name": "stdout",
     "output_type": "stream",
     "text": [
      "Significant: True with p-values = 9.999000099990002e-05\n"
     ]
    }
   ],
   "source": [
    "metaphor_rate = np.sum(labels_) / len(labels_)\n",
    "\n",
    "best_results = results[(\"glove\", 'no inflections + only verbs')]\n",
    "best_tau = best_results['best_tau']\n",
    "predictions = best_results['metrics'][best_tau]['y_pred']\n",
    "labels = best_results['labels']\n",
    "\n",
    "num_comparisons = 1000\n",
    "p = approximate_randomization_test(\n",
    "    np.array([best_results['metrics'][best_tau]['f1']] * num_comparisons),\n",
    "    np.array([f1_score(np.random.binomial(1, metaphor_rate, size=(len(labels),)), labels)\n",
    "              for _ in range(num_comparisons)]),\n",
    "    np.mean\n",
    ")\n",
    "\n",
    "print(\"Significant: {} with p-values = {}\".format(p < 0.005, p))"
   ]
  },
  {
   "cell_type": "code",
   "execution_count": 17,
   "id": "d21d79fc",
   "metadata": {},
   "outputs": [],
   "source": [
    "glove_res = results[('glove', 'inflections + all senses')]"
   ]
  },
  {
   "cell_type": "code",
   "execution_count": 18,
   "id": "82d2cecf",
   "metadata": {},
   "outputs": [
    {
     "data": {
      "image/png": "[encoded data removed]",
      "text/plain": [
       "<Figure size 1080x288 with 3 Axes>"
      ]
     },
     "metadata": {
      "needs_background": "light"
     },
     "output_type": "display_data"
    }
   ],
   "source": [
    "display_score_distribution(glove_res['scores'], glove_res['labels'], filename='reimpl_moh_unbalanced')"
   ]
  },
  {
   "cell_type": "code",
   "execution_count": null,
   "id": "2e64482f",
   "metadata": {},
   "outputs": [],
   "source": []
  },
  {
   "cell_type": "markdown",
   "id": "2f4b76a5",
   "metadata": {},
   "source": [
    "### 2nd experiment: MohX-Balanced data"
   ]
  },
  {
   "cell_type": "code",
   "execution_count": 19,
   "id": "db73c9f6",
   "metadata": {},
   "outputs": [],
   "source": [
    "metaphorical_indices, = np.where(labels_ == 1)\n",
    "literal_indices, = np.where(labels_ == 0)\n",
    "\n",
    "metaphorical_confidences = np.array([confidences[index] for index in metaphorical_indices])\n",
    "literal_confidences = np.array([confidences[index] for index in literal_indices])\n",
    "\n",
    "metaphorical_indices = metaphorical_indices[np.argsort(metaphorical_confidences)[::-1]]\n",
    "literal_indices = literal_indices[np.argsort(literal_confidences)[::-1]]\n",
    "\n",
    "metaphorical_targets = [targets[index] for index in metaphorical_indices]\n",
    "metaphorical_contexts = [contexts[index] for index in metaphorical_indices]\n",
    "metaphorical_labels = np.array([labels_[index] for index in metaphorical_indices])\n",
    "assert len(metaphorical_targets) == len(metaphorical_contexts) == len(metaphorical_labels)\n",
    "\n",
    "literal_targets = [targets[index] for index in literal_indices]\n",
    "literal_contexts = [contexts[index] for index in literal_indices]\n",
    "literal_labels = np.array([labels_[index] for index in literal_indices])\n",
    "assert len(literal_labels) == len(literal_contexts) == len(literal_targets)"
   ]
  },
  {
   "cell_type": "code",
   "execution_count": 20,
   "id": "3a76b506",
   "metadata": {},
   "outputs": [],
   "source": [
    "N = len(metaphorical_indices)\n",
    "\n",
    "balanced_targets = metaphorical_targets + literal_targets[:N]\n",
    "balanced_contexts = metaphorical_contexts + literal_contexts[:N]\n",
    "balanced_labels_ = np.concatenate([metaphorical_labels, literal_labels[:N]])"
   ]
  },
  {
   "cell_type": "code",
   "execution_count": 21,
   "id": "9b0404c8",
   "metadata": {},
   "outputs": [
    {
     "name": "stdout",
     "output_type": "stream",
     "text": [
      "Number of metaphorical targets: 410 (50.00%)\n",
      "Number of literal targets: 410\n"
     ]
    }
   ],
   "source": [
    "num_metaphorical = len(metaphorical_targets)\n",
    "total = len(metaphorical_targets) + len(literal_targets[:N])\n",
    "\n",
    "print(\"Number of metaphorical targets: {} ({:.2f}%)\".format(num_metaphorical, 100 * num_metaphorical / total))\n",
    "print(\"Number of literal targets: {}\".format(total - num_metaphorical))"
   ]
  },
  {
   "cell_type": "code",
   "execution_count": 22,
   "id": "d0067a31",
   "metadata": {},
   "outputs": [],
   "source": [
    "balanced_results = dict()\n",
    "for embedding_name, embedder in embedders.items():\n",
    "    for mode, candidate_finder in candidates.items():\n",
    "        classifier = MetaphorDetector(embedder, candidate_finder)\n",
    "        \n",
    "        scores_ = classifier.predict_scores(balanced_targets, balanced_contexts)\n",
    "        #mask = ~ np.isnan(scores_)\n",
    "        #scores = scores_[mask]\n",
    "        #balanced_labels = balanced_labels_[mask]\n",
    "        balanced_labels = balanced_labels_.copy()\n",
    "        scores = scores_.copy()\n",
    "        \n",
    "        balanced_results[(embedding_name, mode)] = evaluate(scores, balanced_labels)"
   ]
  },
  {
   "cell_type": "code",
   "execution_count": 23,
   "id": "f03160c6",
   "metadata": {},
   "outputs": [
    {
     "data": {
      "text/html": [
       "<div>\n",
       "<style scoped>\n",
       "    .dataframe tbody tr th:only-of-type {\n",
       "        vertical-align: middle;\n",
       "    }\n",
       "\n",
       "    .dataframe tbody tr th {\n",
       "        vertical-align: top;\n",
       "    }\n",
       "\n",
       "    .dataframe thead th {\n",
       "        text-align: right;\n",
       "    }\n",
       "</style>\n",
       "<table border=\"1\" class=\"dataframe\">\n",
       "  <thead>\n",
       "    <tr style=\"text-align: right;\">\n",
       "      <th></th>\n",
       "      <th>fasttext</th>\n",
       "      <th>glove</th>\n",
       "      <th>word2vec</th>\n",
       "    </tr>\n",
       "  </thead>\n",
       "  <tbody>\n",
       "    <tr>\n",
       "      <th>inflections + all senses</th>\n",
       "      <td>0.69</td>\n",
       "      <td>0.71</td>\n",
       "      <td>0.70</td>\n",
       "    </tr>\n",
       "    <tr>\n",
       "      <th>inflections + only verbs</th>\n",
       "      <td>0.69</td>\n",
       "      <td>0.72</td>\n",
       "      <td>0.70</td>\n",
       "    </tr>\n",
       "    <tr>\n",
       "      <th>no inflections + all senses</th>\n",
       "      <td>0.69</td>\n",
       "      <td>0.71</td>\n",
       "      <td>0.69</td>\n",
       "    </tr>\n",
       "    <tr>\n",
       "      <th>no inflections + only verbs</th>\n",
       "      <td>0.69</td>\n",
       "      <td>0.72</td>\n",
       "      <td>0.68</td>\n",
       "    </tr>\n",
       "  </tbody>\n",
       "</table>\n",
       "</div>"
      ],
      "text/plain": [
       "                             fasttext  glove  word2vec\n",
       "inflections + all senses         0.69   0.71      0.70\n",
       "inflections + only verbs         0.69   0.72      0.70\n",
       "no inflections + all senses      0.69   0.71      0.69\n",
       "no inflections + only verbs      0.69   0.72      0.68"
      ]
     },
     "execution_count": 23,
     "metadata": {},
     "output_type": "execute_result"
    }
   ],
   "source": [
    "best_f1 = np.zeros((len(candidates.keys()), len(embedders.keys())))\n",
    "modes = list(sorted(candidates.keys()))\n",
    "embedding_names = list(sorted(embedders.keys()))\n",
    "\n",
    "for i, mode in enumerate(modes):\n",
    "    for j, embedding_name in enumerate(embedding_names):\n",
    "        current_results = balanced_results[(embedding_name, mode)]\n",
    "        best_tau = current_results['best_tau']\n",
    "        best_f1[i, j] = current_results['metrics'][best_tau]['f1']\n",
    "\n",
    "best_f1_table = pd.DataFrame(data=np.round(best_f1, 2), index=modes, columns=embedding_names)\n",
    "best_f1_table"
   ]
  },
  {
   "cell_type": "code",
   "execution_count": 24,
   "id": "b68bf671",
   "metadata": {
    "scrolled": true
   },
   "outputs": [
    {
     "name": "stdout",
     "output_type": "stream",
     "text": [
      "\\begin{tabular}{lrrr}\n",
      "\\toprule\n",
      "{} &  fasttext &  glove &  word2vec \\\\\n",
      "\\midrule\n",
      "inflections + all senses    &      0.69 &   0.71 &      0.70 \\\\\n",
      "inflections + only verbs    &      0.69 &   0.72 &      0.70 \\\\\n",
      "no inflections + all senses &      0.69 &   0.71 &      0.69 \\\\\n",
      "no inflections + only verbs &      0.69 &   0.72 &      0.68 \\\\\n",
      "\\bottomrule\n",
      "\\end{tabular}\n",
      "\n"
     ]
    }
   ],
   "source": [
    "print(best_f1_table.to_latex())"
   ]
  },
  {
   "cell_type": "code",
   "execution_count": 25,
   "id": "34fbe369",
   "metadata": {},
   "outputs": [
    {
     "name": "stdout",
     "output_type": "stream",
     "text": [
      "Significant: True with p-values = 9.999000099990002e-05\n"
     ]
    }
   ],
   "source": [
    "metaphor_rate = np.sum(balanced_labels_) / len(balanced_labels_)\n",
    "\n",
    "best_results = balanced_results[(\"glove\", 'inflections + all senses')]\n",
    "best_tau = best_results['best_tau']\n",
    "predictions = best_results['metrics'][best_tau]['y_pred']\n",
    "labels = best_results['labels']\n",
    "\n",
    "num_comparisons = 1000\n",
    "p = approximate_randomization_test(\n",
    "    np.array([best_results['metrics'][best_tau]['f1']] * num_comparisons),\n",
    "    np.array([f1_score(np.random.binomial(1, metaphor_rate, size=(len(labels),)), labels)\n",
    "              for _ in range(num_comparisons)]),\n",
    "    np.mean\n",
    ")\n",
    "\n",
    "print(\"Significant: {} with p-values = {}\".format(p < 0.005, p))"
   ]
  },
  {
   "cell_type": "code",
   "execution_count": 26,
   "id": "09a56bb3",
   "metadata": {},
   "outputs": [
    {
     "data": {
      "image/png": "[encoded data removed]",
      "text/plain": [
       "<Figure size 1080x288 with 3 Axes>"
      ]
     },
     "metadata": {
      "needs_background": "light"
     },
     "output_type": "display_data"
    }
   ],
   "source": [
    "glove_res = balanced_results[('glove', 'inflections + all senses')]\n",
    "display_score_distribution(glove_res['scores'], glove_res['labels'], filename='reimpl_moh_balanced')"
   ]
  },
  {
   "cell_type": "code",
   "execution_count": null,
   "id": "253b938c",
   "metadata": {},
   "outputs": [],
   "source": []
  },
  {
   "cell_type": "markdown",
   "id": "59dee83c",
   "metadata": {},
   "source": [
    "### 3rd experiment: VUA data"
   ]
  },
  {
   "cell_type": "code",
   "execution_count": 27,
   "id": "c57943a9",
   "metadata": {},
   "outputs": [],
   "source": [
    "vua_corpus_test = pd.read_csv(\"data/naacl_flp/vuamc_corpus_test.csv\")"
   ]
  },
  {
   "cell_type": "code",
   "execution_count": 28,
   "id": "e66d92d8",
   "metadata": {},
   "outputs": [
    {
     "data": {
      "application/vnd.jupyter.widget-view+json": {
       "model_id": "c2048f1d4fd641f08088ac381ace1c12",
       "version_major": 2,
       "version_minor": 0
      },
      "text/plain": [
       "  0%|          | 0/5873 [00:00<?, ?it/s]"
      ]
     },
     "metadata": {},
     "output_type": "display_data"
    }
   ],
   "source": [
    "vua_targets = []\n",
    "vua_contexts = []\n",
    "vua_labels = []\n",
    "vua_texts = []\n",
    "\n",
    "# Use whitespace tokenization from\n",
    "# https://stackoverflow.com/questions/65160277/spacy-tokenizer-with-only-whitespace-rule\n",
    "nlp = spacy.load('en_core_web_sm')\n",
    "nlp.tokenizer = Tokenizer(nlp.vocab, token_match=re.compile(r'\\S+').match)\n",
    "\n",
    "with open(\"data/naacl_flp/verb_tokens_test.csv\") as vua_test_tokens:\n",
    "    for line in tqdm(vua_test_tokens.readlines()):\n",
    "        identifier, label = line.strip().split(',')\n",
    "        txt_id, sentence_id, token_id = identifier.split('_')\n",
    "        sentence_id = int(sentence_id)\n",
    "        token_id = int(token_id) - 1\n",
    "        \n",
    "        assert token_id >= 0\n",
    "        \n",
    "        sentence = vua_corpus_test.loc[(vua_corpus_test['txt_id'] == txt_id) &\n",
    "                                       (vua_corpus_test['sentence_id'] == sentence_id)]\n",
    "        sentence = sentence['sentence_txt'].item()\n",
    "        vua_texts.append(sentence)\n",
    "        sentence = sentence.lower().split()\n",
    "        remove_metaphor_prefix = (lambda s: s[2:] if s.startswith('M_') else s)\n",
    "        sentence = \" \".join([remove_metaphor_prefix(token) for token in sentence])\n",
    "        \n",
    "        sentence = nlp(sentence)\n",
    "        context = [\n",
    "            token.lemma_ for i, token in enumerate(sentence)\n",
    "            if not token.is_stop and bool(token.lemma_.strip(punctuation).strip()) and i != token_id\n",
    "            ]\n",
    "        target = sentence[token_id].lemma_\n",
    "        \n",
    "        vua_contexts.append(context)\n",
    "        vua_targets.append(target)\n",
    "        vua_labels.append(int(label))\n",
    "\n",
    "vua_labels_ = np.array(vua_labels)"
   ]
  },
  {
   "cell_type": "code",
   "execution_count": 29,
   "id": "746e4547",
   "metadata": {},
   "outputs": [
    {
     "name": "stdout",
     "output_type": "stream",
     "text": [
      "Number of metaphorical targets: 1761 (29.98%)\n",
      "Number of literal targets: 4112\n"
     ]
    }
   ],
   "source": [
    "num_metaphorical = np.sum(vua_labels_)\n",
    "total = len(vua_labels_)\n",
    "\n",
    "print(\"Number of metaphorical targets: {} ({:.2f}%)\".format(num_metaphorical, 100 * num_metaphorical / total))\n",
    "print(\"Number of literal targets: {}\".format(total - num_metaphorical))"
   ]
  },
  {
   "cell_type": "code",
   "execution_count": 30,
   "id": "da9ea093",
   "metadata": {},
   "outputs": [
    {
     "name": "stdout",
     "output_type": "stream",
     "text": [
      "Completed evaluating glove with inflections + only verbs\n",
      "Completed evaluating glove with inflections + all senses\n",
      "Completed evaluating glove with no inflections + only verbs\n",
      "Completed evaluating glove with no inflections + all senses\n",
      "Completed evaluating word2vec with inflections + only verbs\n",
      "Completed evaluating word2vec with inflections + all senses\n",
      "Completed evaluating word2vec with no inflections + only verbs\n",
      "Completed evaluating word2vec with no inflections + all senses\n",
      "Completed evaluating fasttext with inflections + only verbs\n",
      "Completed evaluating fasttext with inflections + all senses\n",
      "Completed evaluating fasttext with no inflections + only verbs\n",
      "Completed evaluating fasttext with no inflections + all senses\n"
     ]
    }
   ],
   "source": [
    "vua_results = dict()\n",
    "for embedding_name, embedder in embedders.items():\n",
    "    for mode, candidate_finder in candidates.items():\n",
    "        classifier = MetaphorDetector(embedder, candidate_finder)\n",
    "        \n",
    "        scores_ = classifier.predict_scores(vua_targets, vua_contexts)\n",
    "        #mask = ~ np.isnan(scores_)\n",
    "        #scores = scores_[mask]\n",
    "        #vua_labels = vua_labels_[mask]\n",
    "        vua_labels = vua_labels_.copy()\n",
    "        scores = scores_.copy()\n",
    "        \n",
    "        vua_results[(embedding_name, mode)] = evaluate(scores, vua_labels)\n",
    "        print(\"Completed evaluating {} with {}\".format(embedding_name, mode))"
   ]
  },
  {
   "cell_type": "code",
   "execution_count": 31,
   "id": "35ec3a9c",
   "metadata": {},
   "outputs": [
    {
     "data": {
      "text/html": [
       "<div>\n",
       "<style scoped>\n",
       "    .dataframe tbody tr th:only-of-type {\n",
       "        vertical-align: middle;\n",
       "    }\n",
       "\n",
       "    .dataframe tbody tr th {\n",
       "        vertical-align: top;\n",
       "    }\n",
       "\n",
       "    .dataframe thead th {\n",
       "        text-align: right;\n",
       "    }\n",
       "</style>\n",
       "<table border=\"1\" class=\"dataframe\">\n",
       "  <thead>\n",
       "    <tr style=\"text-align: right;\">\n",
       "      <th></th>\n",
       "      <th>precision</th>\n",
       "      <th>recall</th>\n",
       "      <th>f1</th>\n",
       "      <th>accuracy</th>\n",
       "    </tr>\n",
       "  </thead>\n",
       "  <tbody>\n",
       "    <tr>\n",
       "      <th>inflections + all senses</th>\n",
       "      <td>0.36</td>\n",
       "      <td>0.82</td>\n",
       "      <td>0.5</td>\n",
       "      <td>0.51</td>\n",
       "    </tr>\n",
       "    <tr>\n",
       "      <th>inflections + only verbs</th>\n",
       "      <td>0.37</td>\n",
       "      <td>0.80</td>\n",
       "      <td>0.5</td>\n",
       "      <td>0.52</td>\n",
       "    </tr>\n",
       "    <tr>\n",
       "      <th>no inflections + all senses</th>\n",
       "      <td>0.36</td>\n",
       "      <td>0.85</td>\n",
       "      <td>0.5</td>\n",
       "      <td>0.50</td>\n",
       "    </tr>\n",
       "    <tr>\n",
       "      <th>no inflections + only verbs</th>\n",
       "      <td>0.36</td>\n",
       "      <td>0.83</td>\n",
       "      <td>0.5</td>\n",
       "      <td>0.51</td>\n",
       "    </tr>\n",
       "  </tbody>\n",
       "</table>\n",
       "</div>"
      ],
      "text/plain": [
       "                             precision  recall   f1  accuracy\n",
       "inflections + all senses          0.36    0.82  0.5      0.51\n",
       "inflections + only verbs          0.37    0.80  0.5      0.52\n",
       "no inflections + all senses       0.36    0.85  0.5      0.50\n",
       "no inflections + only verbs       0.36    0.83  0.5      0.51"
      ]
     },
     "execution_count": 31,
     "metadata": {},
     "output_type": "execute_result"
    }
   ],
   "source": [
    "vua_table = np.zeros((len(candidates.keys()), 4))\n",
    "modes = list(sorted(candidates.keys()))\n",
    "#embedding_names = list(sorted(embedders.keys()))\n",
    "metrics = [\"precision\", \"recall\", \"f1\", \"accuracy\"]\n",
    "\n",
    "for i, mode in enumerate(modes):\n",
    "    for j, metric in enumerate(metrics):\n",
    "        current_results = vua_results[(\"word2vec\", mode)]\n",
    "        best_tau = current_results['best_tau']\n",
    "        vua_table[i, j] = current_results['metrics'][best_tau][metric]\n",
    "\n",
    "best_vua_table = pd.DataFrame(data=np.round(vua_table, 2), index=modes, columns=metrics)\n",
    "best_vua_table"
   ]
  },
  {
   "cell_type": "code",
   "execution_count": 32,
   "id": "5cf88fae",
   "metadata": {},
   "outputs": [
    {
     "name": "stdout",
     "output_type": "stream",
     "text": [
      "\\begin{tabular}{lrrrr}\n",
      "\\toprule\n",
      "{} &  precision &  recall &   f1 &  accuracy \\\\\n",
      "\\midrule\n",
      "inflections + all senses    &       0.36 &    0.82 &  0.5 &      0.51 \\\\\n",
      "inflections + only verbs    &       0.37 &    0.80 &  0.5 &      0.52 \\\\\n",
      "no inflections + all senses &       0.36 &    0.85 &  0.5 &      0.50 \\\\\n",
      "no inflections + only verbs &       0.36 &    0.83 &  0.5 &      0.51 \\\\\n",
      "\\bottomrule\n",
      "\\end{tabular}\n",
      "\n"
     ]
    }
   ],
   "source": [
    "print(best_vua_table.to_latex())"
   ]
  },
  {
   "cell_type": "code",
   "execution_count": 33,
   "id": "779cb832",
   "metadata": {},
   "outputs": [
    {
     "name": "stdout",
     "output_type": "stream",
     "text": [
      "Significant: True with p-values = 9.999000099990002e-05\n"
     ]
    }
   ],
   "source": [
    "metaphor_rate = np.sum(vua_labels_) / len(vua_labels_)\n",
    "\n",
    "best_results = vua_results[(\"word2vec\", 'no inflections + all senses')]\n",
    "best_tau = best_results['best_tau']\n",
    "predictions = best_results['metrics'][best_tau]['y_pred']\n",
    "labels = best_results['labels']\n",
    "\n",
    "num_comparisons = 1000\n",
    "p = approximate_randomization_test(\n",
    "    np.array([best_results['metrics'][best_tau]['f1']] * num_comparisons),\n",
    "    np.array([f1_score(np.random.binomial(1, metaphor_rate, size=(len(labels),)), labels)\n",
    "              for _ in range(num_comparisons)]),\n",
    "    np.mean\n",
    ")\n",
    "\n",
    "print(\"Significant: {} with p-values = {}\".format(p < 0.005, p))"
   ]
  },
  {
   "cell_type": "code",
   "execution_count": 34,
   "id": "2b050c11",
   "metadata": {},
   "outputs": [
    {
     "data": {
      "image/png": "[encoded data removed]",
      "text/plain": [
       "<Figure size 1080x288 with 3 Axes>"
      ]
     },
     "metadata": {
      "needs_background": "light"
     },
     "output_type": "display_data"
    }
   ],
   "source": [
    "display_res = vua_results[(\"word2vec\", 'no inflections + all senses')]\n",
    "display_score_distribution(display_res['scores'], display_res['labels'])"
   ]
  },
  {
   "cell_type": "markdown",
   "id": "8948ea18",
   "metadata": {},
   "source": [
    "### 4th Experiment: VUA All POS"
   ]
  },
  {
   "cell_type": "code",
   "execution_count": 35,
   "id": "a7d7c71a",
   "metadata": {},
   "outputs": [
    {
     "data": {
      "application/vnd.jupyter.widget-view+json": {
       "model_id": "5b38fdaebaa04746944d6f153ba0122f",
       "version_major": 2,
       "version_minor": 0
      },
      "text/plain": [
       "  0%|          | 0/22196 [00:00<?, ?it/s]"
      ]
     },
     "metadata": {},
     "output_type": "display_data"
    }
   ],
   "source": [
    "vua_targets = []\n",
    "vua_contexts = []\n",
    "vua_labels = []\n",
    "vua_texts = []\n",
    "\n",
    "# Use whitespace tokenization from\n",
    "# https://stackoverflow.com/questions/65160277/spacy-tokenizer-with-only-whitespace-rule\n",
    "nlp = spacy.load('en_core_web_sm')\n",
    "nlp.tokenizer = Tokenizer(nlp.vocab, token_match=re.compile(r'\\S+').match)\n",
    "\n",
    "with open(\"data/naacl_flp/all_pos_token_test.csv\") as vua_test_tokens:\n",
    "    for line in tqdm(vua_test_tokens.readlines()):\n",
    "        identifier, label = line.strip().split(',')\n",
    "        txt_id, sentence_id, token_id = identifier.split('_')\n",
    "        sentence_id = int(sentence_id)\n",
    "        token_id = int(token_id) - 1\n",
    "        \n",
    "        assert token_id >= 0\n",
    "        \n",
    "        sentence = vua_corpus_test.loc[(vua_corpus_test['txt_id'] == txt_id) &\n",
    "                                       (vua_corpus_test['sentence_id'] == sentence_id)]\n",
    "        sentence = sentence['sentence_txt'].item()\n",
    "        vua_texts.append(sentence)\n",
    "        sentence = sentence.lower().split()\n",
    "        remove_metaphor_prefix = (lambda s: s[2:] if s.startswith('M_') else s)\n",
    "        sentence = \" \".join([remove_metaphor_prefix(token) for token in sentence])\n",
    "        \n",
    "        sentence = nlp(sentence)\n",
    "        context = [\n",
    "            token.lemma_ for i, token in enumerate(sentence)\n",
    "            if not token.is_stop and bool(token.lemma_.strip(punctuation).strip()) and i != token_id\n",
    "            ]\n",
    "        target = sentence[token_id].lemma_\n",
    "        \n",
    "        vua_contexts.append(context)\n",
    "        vua_targets.append(target)\n",
    "        vua_labels.append(int(label))\n",
    "\n",
    "vua_labels_ = np.array(vua_labels)"
   ]
  },
  {
   "cell_type": "code",
   "execution_count": 36,
   "id": "7b4d18f1",
   "metadata": {},
   "outputs": [
    {
     "name": "stdout",
     "output_type": "stream",
     "text": [
      "Number of metaphorical targets: 3982 (17.94%)\n",
      "Number of literal targets: 18214\n"
     ]
    }
   ],
   "source": [
    "num_metaphorical = np.sum(vua_labels_)\n",
    "total = len(vua_labels_)\n",
    "\n",
    "print(\"Number of metaphorical targets: {} ({:.2f}%)\".format(num_metaphorical, 100 * num_metaphorical / total))\n",
    "print(\"Number of literal targets: {}\".format(total - num_metaphorical))"
   ]
  },
  {
   "cell_type": "code",
   "execution_count": 37,
   "id": "b76225eb",
   "metadata": {},
   "outputs": [
    {
     "name": "stdout",
     "output_type": "stream",
     "text": [
      "Completed evaluating word2vec with inflections + all senses\n",
      "Completed evaluating word2vec with no inflections + all senses\n"
     ]
    }
   ],
   "source": [
    "vua_results = dict()\n",
    "for embedding_name, embedder in embedders.items():\n",
    "    if embedding_name != \"word2vec\":\n",
    "        continue\n",
    "\n",
    "    for mode, candidate_finder in candidates.items():\n",
    "        if mode.endswith('only verbs'):\n",
    "            continue\n",
    "\n",
    "        classifier = MetaphorDetector(embedder, candidate_finder)\n",
    "        \n",
    "        scores_ = classifier.predict_scores(vua_targets, vua_contexts)\n",
    "        #mask = ~ np.isnan(scores_)\n",
    "        #scores = scores_[mask]\n",
    "        #vua_labels = vua_labels_[mask]\n",
    "        vua_labels = vua_labels_.copy()\n",
    "        scores = scores_.copy()\n",
    "        \n",
    "        vua_results[(embedding_name, mode)] = evaluate(scores, vua_labels)\n",
    "        print(\"Completed evaluating {} with {}\".format(embedding_name, mode))"
   ]
  },
  {
   "cell_type": "code",
   "execution_count": 38,
   "id": "5fee1b5f",
   "metadata": {},
   "outputs": [
    {
     "data": {
      "text/html": [
       "<div>\n",
       "<style scoped>\n",
       "    .dataframe tbody tr th:only-of-type {\n",
       "        vertical-align: middle;\n",
       "    }\n",
       "\n",
       "    .dataframe tbody tr th {\n",
       "        vertical-align: top;\n",
       "    }\n",
       "\n",
       "    .dataframe thead th {\n",
       "        text-align: right;\n",
       "    }\n",
       "</style>\n",
       "<table border=\"1\" class=\"dataframe\">\n",
       "  <thead>\n",
       "    <tr style=\"text-align: right;\">\n",
       "      <th></th>\n",
       "      <th>precision</th>\n",
       "      <th>recall</th>\n",
       "      <th>f1</th>\n",
       "      <th>accuracy</th>\n",
       "    </tr>\n",
       "  </thead>\n",
       "  <tbody>\n",
       "    <tr>\n",
       "      <th>inflections + all senses</th>\n",
       "      <td>0.25</td>\n",
       "      <td>0.76</td>\n",
       "      <td>0.37</td>\n",
       "      <td>0.54</td>\n",
       "    </tr>\n",
       "    <tr>\n",
       "      <th>no inflections + all senses</th>\n",
       "      <td>0.25</td>\n",
       "      <td>0.74</td>\n",
       "      <td>0.38</td>\n",
       "      <td>0.56</td>\n",
       "    </tr>\n",
       "  </tbody>\n",
       "</table>\n",
       "</div>"
      ],
      "text/plain": [
       "                             precision  recall    f1  accuracy\n",
       "inflections + all senses          0.25    0.76  0.37      0.54\n",
       "no inflections + all senses       0.25    0.74  0.38      0.56"
      ]
     },
     "execution_count": 38,
     "metadata": {},
     "output_type": "execute_result"
    }
   ],
   "source": [
    "vua_table = np.zeros((2, 4))\n",
    "modes = list(sorted([mode for mode in modes if not mode.endswith('only verbs')]))\n",
    "#embedding_names = list(sorted(embedders.keys()))\n",
    "metrics = [\"precision\", \"recall\", \"f1\", \"accuracy\"]\n",
    "\n",
    "for i, mode in enumerate(modes):\n",
    "    for j, metric in enumerate(metrics):\n",
    "        current_results = vua_results[(\"word2vec\", mode)]\n",
    "        best_tau = current_results['best_tau']\n",
    "        vua_table[i, j] = current_results['metrics'][best_tau][metric]\n",
    "\n",
    "best_vua_table = pd.DataFrame(data=np.round(vua_table, 2), index=modes, columns=metrics)\n",
    "best_vua_table"
   ]
  },
  {
   "cell_type": "code",
   "execution_count": 39,
   "id": "30811521",
   "metadata": {},
   "outputs": [
    {
     "name": "stdout",
     "output_type": "stream",
     "text": [
      "\\begin{tabular}{lrrrr}\n",
      "\\toprule\n",
      "{} &  precision &  recall &    f1 &  accuracy \\\\\n",
      "\\midrule\n",
      "inflections + all senses    &       0.25 &    0.76 &  0.37 &      0.54 \\\\\n",
      "no inflections + all senses &       0.25 &    0.74 &  0.38 &      0.56 \\\\\n",
      "\\bottomrule\n",
      "\\end{tabular}\n",
      "\n"
     ]
    }
   ],
   "source": [
    "print(best_vua_table.to_latex())"
   ]
  },
  {
   "cell_type": "code",
   "execution_count": 40,
   "id": "e4d1c22a",
   "metadata": {},
   "outputs": [
    {
     "name": "stdout",
     "output_type": "stream",
     "text": [
      "Significant: True with p-value = 9.999000099990002e-05\n"
     ]
    }
   ],
   "source": [
    "metaphor_rate = np.sum(vua_labels_) / len(vua_labels_)\n",
    "\n",
    "best_results = vua_results[(\"word2vec\", 'no inflections + all senses')]\n",
    "best_tau = best_results['best_tau']\n",
    "predictions = best_results['metrics'][best_tau]['y_pred']\n",
    "labels = best_results['labels']\n",
    "\n",
    "num_comparisons = 1000\n",
    "p = approximate_randomization_test(\n",
    "    np.array([best_results['metrics'][best_tau]['f1']] * num_comparisons),\n",
    "    np.array([f1_score(np.random.binomial(1, metaphor_rate, size=(len(labels),)), labels)\n",
    "              for _ in range(num_comparisons)]),\n",
    "    np.mean\n",
    ")\n",
    "\n",
    "print(\"Significant: {} with p-value = {}\".format(p < 0.005, p))"
   ]
  },
  {
   "cell_type": "code",
   "execution_count": 41,
   "id": "ac767318",
   "metadata": {},
   "outputs": [
    {
     "data": {
      "image/png": "[encoded data removed]",
      "text/plain": [
       "<Figure size 1080x288 with 3 Axes>"
      ]
     },
     "metadata": {
      "needs_background": "light"
     },
     "output_type": "display_data"
    }
   ],
   "source": [
    "display_res = vua_results[(\"word2vec\", 'no inflections + all senses')]\n",
    "display_score_distribution(display_res['scores'], display_res['labels'])"
   ]
  },
  {
   "cell_type": "code",
   "execution_count": null,
   "id": "98f39142",
   "metadata": {},
   "outputs": [],
   "source": []
  }
 ],
 "metadata": {
  "kernelspec": {
   "display_name": "Python 3 (ipykernel)",
   "language": "python",
   "name": "python3"
  },
  "language_info": {
   "codemirror_mode": {
    "name": "ipython",
    "version": 3
   },
   "file_extension": ".py",
   "mimetype": "text/x-python",
   "name": "python",
   "nbconvert_exporter": "python",
   "pygments_lexer": "ipython3",
   "version": "3.8.11"
  }
 },
 "nbformat": 4,
 "nbformat_minor": 5
}
