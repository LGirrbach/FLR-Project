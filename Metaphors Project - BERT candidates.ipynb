{
 "cells": [
  {
   "cell_type": "code",
   "execution_count": 1,
   "id": "49e0e84a",
   "metadata": {},
   "outputs": [],
   "source": [
    "import re\n",
    "import spacy\n",
    "import numpy as np\n",
    "import pandas as pd\n",
    "import seaborn as sns\n",
    "import matplotlib.pyplot as plt\n",
    "import gensim.downloader as gensim\n",
    "\n",
    "from typing import List, Union\n",
    "from string import punctuation\n",
    "from transformers import pipeline\n",
    "from tqdm.auto import tqdm, trange\n",
    "from nltk.corpus import wordnet as wn\n",
    "from spacy.tokenizer import Tokenizer\n",
    "from lemminflect import getAllInflections\n",
    "from gensim.models.keyedvectors import KeyedVectors\n",
    "\n",
    "from sklearn.metrics import f1_score\n",
    "from sklearn.metrics import recall_score\n",
    "from sklearn.metrics import accuracy_score\n",
    "from sklearn.metrics import roc_curve, auc\n",
    "from sklearn.metrics import precision_score\n",
    "from sklearn.metrics import precision_recall_curve\n",
    "from sklearn.metrics.pairwise import cosine_similarity"
   ]
  },
  {
   "cell_type": "code",
   "execution_count": 2,
   "id": "93b46f1b",
   "metadata": {},
   "outputs": [],
   "source": [
    "class GensimEmbedder:\n",
    "    def __init__(self, embd_name: str = 'glove-wiki-gigaword-50', file=False):\n",
    "        if file:\n",
    "            self.embeddings = KeyedVectors.load_word2vec_format(embed_name, binary=False)\n",
    "        else:\n",
    "            self.embeddings = gensim.load(embd_name)\n",
    "        \n",
    "        self.dim = self.embeddings.vectors.shape[1]\n",
    "        \n",
    "        self.oov_embedding = np.mean(self.embeddings.vectors, axis=0)\n",
    "        assert self.oov_embedding.shape[0] == self.dim\n",
    "    \n",
    "    def __contains__(self, obj):\n",
    "        return obj in self.embeddings\n",
    "    \n",
    "    def embed_token(self, token: str):\n",
    "        try:\n",
    "            return self.embeddings[token]\n",
    "        except KeyError:\n",
    "            return self.oov_embedding\n",
    "    \n",
    "    def embed_context(self, context: List[str]):\n",
    "        token_embeddings = [self.embed_token(token) for token in context if token in self.embeddings]\n",
    "        if len(token_embeddings) == 0:\n",
    "            return self.oov_embedding\n",
    "        else:\n",
    "            return np.mean(np.stack(token_embeddings), axis=0)"
   ]
  },
  {
   "cell_type": "code",
   "execution_count": 3,
   "id": "f15a546f",
   "metadata": {},
   "outputs": [],
   "source": [
    "class WordNetCandidates:\n",
    "    \"\"\"\n",
    "    Retrieves candidate replacements of `target` from WordNet.\n",
    "    Takes synonym and hypernym lemmas from all or only verb senses.\n",
    "    Optionally augments list by inflections.\n",
    "    \n",
    "    :param target:          Target token\n",
    "    :param only_verb:       Whether to only consider verb senses\n",
    "    :param use_inflections: Whether to add inflections\n",
    "    :returns:               List of WordNet candidates\n",
    "    \"\"\"\n",
    "    def __init__(self, only_verb: bool = True, use_inflections: bool = True):\n",
    "        self.only_verb = only_verb\n",
    "        self.use_inflections = use_inflections\n",
    "\n",
    "\n",
    "    def _get_inflections(self, candidates: List[str]) -> List[str]:\n",
    "        inflected_candidates = []\n",
    "        \n",
    "        for candidate in candidates:\n",
    "            inflected_candidates.append(candidate)\n",
    "        \n",
    "            inflections = getAllInflections(candidate)\n",
    "            \n",
    "            # Only use verb senses (optional)\n",
    "            if self.only_verb:\n",
    "                inflections = {\n",
    "                    pos: forms for pos, forms in inflections.items()\n",
    "                    if pos.lower().startswith('v')\n",
    "                }\n",
    "            \n",
    "            for forms in inflections.values():\n",
    "                inflected_candidates.extend(list(forms))\n",
    "        \n",
    "        return inflected_candidates\n",
    "\n",
    "\n",
    "    def __call__(self, target: str, **kwargs) -> List[str]:\n",
    "        candidates = [target]\n",
    "    \n",
    "        # Find all relevant synsets\n",
    "        target_synsets = wn.synsets(target)\n",
    "        hypernym_synsets = []\n",
    "        for target_synset in target_synsets:\n",
    "            hypernym_synsets.extend(list(target_synset.hypernyms()))\n",
    "    \n",
    "        # Collect lemmata (as str)\n",
    "        for synset in target_synsets + hypernym_synsets:\n",
    "            # Only use verb senses (optional)\n",
    "            if self.only_verb and synset.pos() != 'v':\n",
    "                continue\n",
    "        \n",
    "            candidates.extend([lemma.name() for lemma in synset.lemmas()])\n",
    "    \n",
    "        # Add inflections using lemminflect (optional)\n",
    "        if self.use_inflections:\n",
    "            candidates = self._get_inflections(candidates)\n",
    "    \n",
    "        # Sort & clean candidates\n",
    "        candidates = list(sorted(set(candidates)))\n",
    "        if not candidates:\n",
    "            candidates = target\n",
    "        \n",
    "        return candidates"
   ]
  },
  {
   "cell_type": "code",
   "execution_count": 4,
   "id": "c6679866",
   "metadata": {},
   "outputs": [],
   "source": [
    "class BERTCandidates:\n",
    "    def __init__(self, bert_model=\"roberta-base\", top_k=25):\n",
    "        self.get_candidates = pipeline(\"fill-mask\", model=bert_model, top_k=top_k)\n",
    "        \n",
    "    def __call__(self, targets, contexts, **kwargs):\n",
    "        if isinstance(contexts, str):\n",
    "            contexts = [contexts]\n",
    "            \n",
    "        candidates = self.get_candidates(contexts)\n",
    "        candidates = [[candidate['token_str'].strip().lower() for candidate in context_candidates]\n",
    "                      for context_candidates in candidates\n",
    "                      ]\n",
    "        candidates = [list(sorted(set(context_candidates))) for context_candidates in candidates]\n",
    "        candidates = [([target] if not context_candidates else context_candidates)\n",
    "                      for target, context_candidates in zip(targets, candidates)]\n",
    "        \n",
    "        return candidates"
   ]
  },
  {
   "cell_type": "code",
   "execution_count": 5,
   "id": "df1dfc94",
   "metadata": {},
   "outputs": [],
   "source": [
    "from collections import defaultdict\n",
    "\n",
    "class WordNetBertCandidates:\n",
    "    def __init__(self, bert_model='roberta-base', top_k=25):\n",
    "        self.top_k = top_k\n",
    "        self.wordnet_candidates = WordNetCandidates()\n",
    "        self.bert = pipeline(\"fill-mask\", model=bert_model, top_k=1000)\n",
    "    \n",
    "    def __call__(self, targets, contexts, **kwargs):\n",
    "        wordnet_candidates = [self.wordnet_candidates(target) for target in targets]\n",
    "        bert_scores = self.bert(contexts)\n",
    "        \n",
    "        assert len(wordnet_candidates) == len(bert_scores)\n",
    "        \n",
    "        candidates = []\n",
    "        \n",
    "        for target, context_wordnet_candidates, context_scores in zip(targets, wordnet_candidates, bert_scores):\n",
    "            scores = defaultdict(lambda s: 0.0)\n",
    "        \n",
    "            for candidate in context_scores:\n",
    "                token = candidate['token_str'].strip().lower()\n",
    "                score = candidate['score']\n",
    "                if token not in scores or score > scores[token]:\n",
    "                    scores[token] = score\n",
    "            \n",
    "            context_candidates = sorted(scores.keys(), key=scores.get, reverse=True)\n",
    "            context_candidates = list(context_candidates)[:self.top_k]\n",
    "            \n",
    "            if not context_candidates:\n",
    "                context_candidates = [target]\n",
    "            \n",
    "            candidates.append(context_candidates)\n",
    "            \n",
    "        return candidates"
   ]
  },
  {
   "cell_type": "code",
   "execution_count": 6,
   "id": "17e6bb92",
   "metadata": {},
   "outputs": [],
   "source": [
    "class BertMetaphorDetector:\n",
    "    def __init__(self, embedder, get_candidate_words):\n",
    "        self.embedder = embedder\n",
    "        self.get_candidate_words = get_candidate_words\n",
    "        \n",
    "        self.nlp = spacy.load(\"en_core_web_sm\", disable = ['ner', 'parser', 'textcat'])\n",
    "        \n",
    "    \n",
    "    def get_best_fit_words(self, targets: str, contexts: List[str]) -> str:\n",
    "        candidates = self.get_candidate_words(targets=targets, contexts=contexts)\n",
    "        best_fit_words = []\n",
    "        \n",
    "        for target, context, context_candidates in zip(targets, contexts, candidates):\n",
    "            context_candidates = [candidate for candidate in context_candidates if candidate in self.embedder]\n",
    "        \n",
    "            if not context_candidates:\n",
    "                best_fit_words.append(target)\n",
    "                continue\n",
    "            elif len(candidates) == 1:\n",
    "                best_fit_words.append(candidates[0])\n",
    "                continue\n",
    "        \n",
    "            clean_context = [\n",
    "                token.lemma_ for token in self.nlp(context)\n",
    "                if not token.is_stop and bool(token.lemma_.strip(punctuation).strip())\n",
    "            ]\n",
    "        \n",
    "            context_embedding = self.embedder.embed_context(clean_context)\n",
    "            context_embedding = np.atleast_2d(context_embedding)\n",
    "        \n",
    "            candidate_embeddings = [\n",
    "                self.embedder.embed_token(candidate) for candidate in context_candidates\n",
    "            ]\n",
    "            candidate_embeddings = np.stack(candidate_embeddings)\n",
    "        \n",
    "            similarities = cosine_similarity(context_embedding, candidate_embeddings)\n",
    "            similarities = similarities.reshape(-1)\n",
    "        \n",
    "            best_fit_words.append(context_candidates[np.argmax(similarities)])\n",
    "        \n",
    "        return best_fit_words\n",
    "\n",
    "    \n",
    "    def predict_scores(self,\n",
    "                       targets: Union[str, List[str]],\n",
    "                       contexts: Union[List[str], List[List[str]]]) -> List[float]:\n",
    "        if isinstance(targets, str):\n",
    "            targets = [targets]\n",
    "            contexts = [contexts]\n",
    "            \n",
    "        assert len(targets) == len(contexts)\n",
    "        \n",
    "        best_fit_words = []\n",
    "        start, step = 0, 64\n",
    "        #pbar = tqdm(total = len(targets) // step + 1)\n",
    "        while len(best_fit_words) < len(targets):\n",
    "            stop = start + step\n",
    "            best_fit_words_batch = self.get_best_fit_words(targets[start:stop], contexts[start:stop])\n",
    "            best_fit_words.extend(best_fit_words_batch)\n",
    "            start = stop\n",
    "            \n",
    "            #pbar.update(1)\n",
    "        \n",
    "        probs = []\n",
    "        #for target, context, fit_word in tqdm(zip(targets, contexts, best_fit_words), total=len(targets)):\n",
    "        for target, context, fit_word in zip(targets, contexts, best_fit_words):\n",
    "            target_embedding = self.embedder.embed_token(target)\n",
    "            target_embedding = np.atleast_2d(target_embedding)\n",
    "            \n",
    "            fit_word_embedding = embedder.embed_token(fit_word)\n",
    "            fit_word_embedding = np.atleast_2d(fit_word_embedding)\n",
    "            \n",
    "            S = cosine_similarity(target_embedding, fit_word_embedding)\n",
    "            S = S.reshape(-1)\n",
    "            S = S.item()\n",
    "            probs.append(S)\n",
    "        \n",
    "        return np.array(probs)"
   ]
  },
  {
   "cell_type": "code",
   "execution_count": 7,
   "id": "aa3a244a",
   "metadata": {},
   "outputs": [],
   "source": [
    "def evaluate(scores, labels):\n",
    "    results = dict()\n",
    "    \n",
    "    results['scores'] = np.array(scores).copy()\n",
    "    results['labels'] = np.array(labels).copy()\n",
    "    \n",
    "    scores = 1 - scores\n",
    "    scores = np.clip(scores, 0.0, 1.0)\n",
    "    \n",
    "    results['precision_recall_curve'] = precision_recall_curve(labels, scores)[:2]\n",
    "    results['roc_curve'] = roc_curve(labels, scores)[:2]\n",
    "    results['roc_auc'] = auc(*results['roc_curve'])\n",
    "    \n",
    "    thresholds = np.linspace(0.0, 0.99, 98)\n",
    "    y_true = labels.astype(np.int64)\n",
    "    results['thresholds'] = thresholds\n",
    "    results['metrics'] = dict()\n",
    "    \n",
    "    for tau in thresholds:\n",
    "        y_pred = (scores > tau).astype(np.int64)\n",
    "        results['metrics'][tau] = {\n",
    "            'y_pred': y_pred.copy(),\n",
    "            'precision': precision_score(y_true, y_pred, zero_division=0.0),\n",
    "            'recall': recall_score(y_true, y_pred, zero_division=0.0),\n",
    "            'f1': f1_score(y_true, y_pred, zero_division=0.0),\n",
    "            'accuracy': accuracy_score(y_true, y_pred)\n",
    "        }\n",
    "    \n",
    "    f1 = [results['metrics'][tau]['f1'] for tau in thresholds]\n",
    "    results['best_tau'] = thresholds[np.argmax(f1)]\n",
    "    \n",
    "    return results"
   ]
  },
  {
   "cell_type": "code",
   "execution_count": 8,
   "id": "2101747c",
   "metadata": {},
   "outputs": [],
   "source": [
    "def display_score_distribution(scores, labels, filename=None):\n",
    "    fig, (ax1, ax2, ax3) = plt.subplots(1, 3, figsize=(15, 4), sharex=True, sharey=True)\n",
    "    bins = 100\n",
    "    align = 'left'\n",
    "    xx = 0.5\n",
    "    font_size = 14\n",
    "    plt.rcParams['font.size'] = font_size\n",
    "\n",
    "    # Overall statistics\n",
    "    #ax1.hist(scores, bins=100, color='blue')\n",
    "    #ax1.set_xlabel('Cosine distance in [-1.0, 1.0]')\n",
    "    #ax1.set_ylabel('# Similarities (binned)')\n",
    "    #ax1.set_title('Combined statistics')\n",
    "    \n",
    "    sns.histplot(scores, kde=False, bins=bins, ax=ax1,\n",
    "                 stat='density', color='blue', element='step',\n",
    "                 label='Overall statistics')\n",
    "    ax1.spines['right'].set_visible(False)\n",
    "    ax1.spines['top'].set_visible(False)\n",
    "    ax1.axvline(np.median(scores),\n",
    "                color='black', linestyle='dashed')\n",
    "    ax1.set_title('Overall statistics', pad=0.4)\n",
    "    #ax1.set_ylim([0, ax1.get_ylim()[1]])\n",
    "    ax1.set_xlabel('Cosine similarity in [-1.0, 1.0]')\n",
    "    \n",
    "    med = np.median(scores)\n",
    "    ax2.text(xx, 0.6, r'$Med={:.2f}$'.format(med),\n",
    "                    horizontalalignment=align,\n",
    "                    verticalalignment='center',\n",
    "                    transform=ax1.transAxes,\n",
    "                    size=12)\n",
    "\n",
    "    # Metaphor statistics\n",
    "    #ax2.hist(scores[labels == 1], bins=100, color='tomato', label='Metaphor statistics')\n",
    "    #ax2.set_xlabel('Cosine similarity in [-1.0, 1.0]')\n",
    "    #ax2.set_ylabel('# Similarities (binned)')\n",
    "    #ax2.set_title('Metaphor statistics')\n",
    "    \n",
    "    sns.histplot(scores[labels == 1], kde=False, bins=bins, ax=ax2,\n",
    "                 stat='density', color='tomato', element='step',\n",
    "                 label='Metaphor statistics')\n",
    "    ax2.spines['right'].set_visible(False)\n",
    "    ax2.spines['top'].set_visible(False)\n",
    "    ax2.axvline(np.median(scores[labels == 1]),\n",
    "                color='black', linestyle='dashed')\n",
    "    ax2.set_title('Metaphor statistics', pad=0.4)\n",
    "    #ax2.set_ylim([0, ax2.get_ylim()[1]])\n",
    "    ax2.set_xlabel('Cosine similarity in [-1.0, 1.0]')\n",
    "    \n",
    "    med = np.median(scores[labels == 1])\n",
    "    ax2.text(xx, 0.6, r'$Med={:.2f}$'.format(med),\n",
    "                    horizontalalignment=align,\n",
    "                    verticalalignment='center',\n",
    "                    transform=ax2.transAxes,\n",
    "                    size=12)\n",
    "    \n",
    "\n",
    "    # Literal statistics\n",
    "    sns.histplot(scores[labels == 0], kde=False, bins=bins, ax=ax3,\n",
    "                 stat='density', color='forestgreen', element='step',\n",
    "                 label='Literal statistics')\n",
    "    ax3.spines['right'].set_visible(False)\n",
    "    ax3.spines['top'].set_visible(False)\n",
    "    ax3.axvline(np.median(scores[labels == 0]),\n",
    "                color='black', linestyle='dashed')\n",
    "    ax3.set_title('Literal statistics', pad=0.4)\n",
    "    #ax3.set_ylim([0, ax3.get_ylim()[1]])\n",
    "    #ax3.hist(scores[labels == 0], bins=100, color='forestgreen', label='Literal statistics')\n",
    "    ax3.set_xlabel('Cosine similarity in [-1.0, 1.0]')\n",
    "    #ax3.set_ylabel('# Similarities (binned)')\n",
    "    #ax3.set_title('Literal statistics')\n",
    "    #ax2.legend()\n",
    "    med = np.median(scores[labels == 0])\n",
    "    ax3.text(xx, 0.6, r'$Med={:.2f}$'.format(med),\n",
    "                    horizontalalignment=align,\n",
    "                    verticalalignment='center',\n",
    "                    transform=ax3.transAxes,\n",
    "                    size=12)\n",
    "    \n",
    "    \n",
    "    if filename is not None:\n",
    "        fig.savefig(\"figures/{}.png\".format(filename), dpi=300)\n",
    "\n",
    "    plt.show()\n",
    "\n",
    "def display_score_statistics(scores, labels):\n",
    "    #full_scores = scores.copy()\n",
    "    #full_labels = labels.copy()\n",
    "    \n",
    "    #mask = (0.01 < full_scores) & (full_scores < 0.99)\n",
    "    #scores = full_scores[mask]\n",
    "    #labels = full_labels[mask]\n",
    "    \n",
    "    scores = np.round(scores, 2)\n",
    "\n",
    "    all_scores_summary = pd.DataFrame(data=scores, index=None, columns=[\"All scores\"]).describe()\n",
    "\n",
    "    metaphor_scores_summary = pd.DataFrame(data=scores[labels == 1], index=None, columns=[\"Metaphor scores\"])\n",
    "    metaphor_scores_summary = metaphor_scores_summary.describe()\n",
    "\n",
    "    literal_scores_summary = pd.DataFrame(data=scores[labels == 0], index=None, columns=[\"Literal scores\"])\n",
    "    literal_scores_summary = literal_scores_summary.describe()\n",
    "\n",
    "    stats = pd.concat([all_scores_summary, metaphor_scores_summary, literal_scores_summary], axis=1)\n",
    "    return stats\n",
    "\n",
    "\n",
    "def display_evaluation_metrics(results):\n",
    "    metrics = pd.DataFrame.from_records(\n",
    "        [{metric: score for metric, score in results['metrics'][tau].items()\n",
    "          if metric != 'y_pred'}\n",
    "         for tau in results['thresholds']]\n",
    "    )\n",
    "    \n",
    "    fig, (ax1, ax2, ax3) = plt.subplots(1, 3, figsize=(13, 13), sharex=True, sharey=True)\n",
    "\n",
    "    # Precision-Recall curve\n",
    "    precision, recall = results['precision_recall_curve']\n",
    "    ax1.step(recall, precision, where='post')\n",
    "    ax1.set_xlabel('Recall')\n",
    "    ax1.set_ylabel('Precision')\n",
    "    ax1.set_ylim([0.0, 1.05])\n",
    "    ax1.set_xlim([0.0, 1.0])\n",
    "    ax1.set_title(\"Precision-Recall curve\")\n",
    "    ax1.set_aspect('equal', adjustable='box')\n",
    "\n",
    "    # Receiver-Operating charateristic\n",
    "    lw = 2\n",
    "    fpr, tpr = results['roc_curve']\n",
    "    roc_auc = results['roc_auc']\n",
    "    ax2.plot(fpr, tpr, color='darkorange',\n",
    "             lw=lw, label='ROC curve (area = %0.2f)' % roc_auc)\n",
    "    ax2.plot([0, 1], [0, 1], color='navy', lw=lw, linestyle='--')\n",
    "    ax2.set_xlabel('False Positive Rate')\n",
    "    ax2.set_ylabel('True Positive Rate')\n",
    "    ax2.set_ylim([0.0, 1.05])\n",
    "    ax2.set_xlim([0.0, 1.0])\n",
    "    ax2.set_title('Receiver operating characteristic')\n",
    "    ax2.legend(loc=\"upper left\")\n",
    "    ax2.set_aspect('equal', adjustable='box')\n",
    "\n",
    "    # Metrics vs. threshold\n",
    "    for metric in metrics:\n",
    "        ax3.plot(results['thresholds'], metrics[metric], label=metric)\n",
    "\n",
    "    ax3.legend(loc=\"upper left\")\n",
    "    ax3.set_xlabel(\"Threshold\")\n",
    "    ax3.set_ylabel(\"Metric\")\n",
    "    ax3.set_aspect('equal', adjustable='box')\n",
    "    ax3.set_title(\"Performance\")\n",
    "\n",
    "    plt.show()"
   ]
  },
  {
   "cell_type": "code",
   "execution_count": 9,
   "id": "440fe632",
   "metadata": {},
   "outputs": [],
   "source": [
    "# Use implementation from\n",
    "# https://github.com/Sleemanmunk/approximate-randomization/blob/master/approximate_randomization.py\n",
    "\n",
    "def approximate_randomization_test(sample1, sample2, score_func, repetitions=10000):\n",
    "    assert len(sample1) == len(sample2)\n",
    "    n = len(sample1)\n",
    "    \n",
    "    true_diff = np.abs(score_func(sample1) - score_func(sample2))\n",
    "    \n",
    "    c = 0\n",
    "    for _ in range(repetitions):\n",
    "        shuffle = np.random.rand(n)  < 0.5\n",
    "        sample1_new = np.select([shuffle, ~ shuffle], [sample1, sample2])\n",
    "        sample2_new = np.select([shuffle, ~ shuffle], [sample2, sample1])\n",
    "        score_diff = np.abs(score_func(sample1_new) - score_func(sample2_new))\n",
    "        \n",
    "        c += (1 if score_diff >= true_diff else 0)\n",
    "    \n",
    "    return (c+1) / (repetitions + 1)"
   ]
  },
  {
   "cell_type": "code",
   "execution_count": 10,
   "id": "0e960a35",
   "metadata": {},
   "outputs": [],
   "source": [
    "embedders = {\n",
    "    'glove': GensimEmbedder(\"glove-wiki-gigaword-300\"),\n",
    "    'word2vec': GensimEmbedder(\"word2vec-google-news-300\"),\n",
    "    'fasttext': GensimEmbedder(\"fasttext-wiki-news-subwords-300\")\n",
    "}"
   ]
  },
  {
   "cell_type": "code",
   "execution_count": 11,
   "id": "10b78e84",
   "metadata": {},
   "outputs": [],
   "source": [
    "import warnings\n",
    "warnings.filterwarnings(\"ignore\")"
   ]
  },
  {
   "cell_type": "code",
   "execution_count": 12,
   "id": "27611927",
   "metadata": {},
   "outputs": [],
   "source": [
    "candidates = {\n",
    "    'RoBERTa + only best': BERTCandidates(bert_model=\"roberta-base\", top_k=1),\n",
    "    'RoBERTa + top 25': BERTCandidates(bert_model=\"roberta-base\", top_k=25),\n",
    "    'WordNet RoBERTa + only best': WordNetBertCandidates(bert_model=\"roberta-base\", top_k=1),\n",
    "    'WordNet RoBERTa + top 25': WordNetBertCandidates(bert_model=\"roberta-base\", top_k=25),\n",
    "    #'BERT + only best': BERTCandidates(bert_model='bert-base-uncased', top_k=1),\n",
    "    #'BERT + top 25': BERTCandidates(bert_model='bert-base-uncased', top_k=25),\n",
    "}"
   ]
  },
  {
   "cell_type": "code",
   "execution_count": 13,
   "id": "0208084f",
   "metadata": {},
   "outputs": [],
   "source": [
    "mask_token = candidates['RoBERTa + only best'].get_candidates.tokenizer.mask_token"
   ]
  },
  {
   "cell_type": "markdown",
   "id": "53160a7b",
   "metadata": {},
   "source": [
    "### 1st experiment: MohX-Full data"
   ]
  },
  {
   "cell_type": "code",
   "execution_count": 14,
   "id": "5e3f21ca",
   "metadata": {},
   "outputs": [],
   "source": [
    "# Load Mohammad et al. data\n",
    "data = pd.read_csv(\"data/mohammad.txt\", sep='\\t', skipfooter=2, engine='python')\n",
    "\n",
    "# Targets\n",
    "targets = data['term'].tolist()\n",
    "\n",
    "# Contexts\n",
    "nlp = spacy.load(\"en_core_web_sm\", disable = ['ner', 'parser', 'textcat'])\n",
    "contexts = data['sentence'].tolist()\n",
    "contexts = [re.sub(r'<b>.*</b>', mask_token, context.lower()) for context in contexts]   # Remove targets\n",
    "#contexts = [\n",
    "#    [token.lemma_ for token in nlp(context) \n",
    "#     if not token.is_stop and bool(token.lemma_.strip(punctuation).strip())]\n",
    "#    for context in contexts\n",
    "#]\n",
    "\n",
    "# Labels\n",
    "labels = data['class']\n",
    "labels = [(1 if label == 'metaphorical' else 0) for label in labels]\n",
    "labels_ = np.array(labels)\n",
    "\n",
    "# Confidences\n",
    "confidences = data['confidence']\n",
    "confidences = np.array(confidences)\n",
    "\n",
    "assert len(targets) == len(contexts) == len(labels) == len(confidences)"
   ]
  },
  {
   "cell_type": "code",
   "execution_count": 15,
   "id": "65b1e8f8",
   "metadata": {},
   "outputs": [],
   "source": [
    "#embedder = embedders['glove']\n",
    "#candidate_finder = WordNetBertCandidates(bert_model=\"roberta-base\", top_k=25)\n",
    "#classifier = BertMetaphorDetector(embedder, candidate_finder)\n",
    "\n",
    "#scores_ = classifier.predict_scores(targets, contexts)"
   ]
  },
  {
   "cell_type": "code",
   "execution_count": 16,
   "id": "eb9dc4df",
   "metadata": {},
   "outputs": [],
   "source": [
    "#results = evaluate(scores_, labels_)\n",
    "#display_score_distribution(results['scores'], results['labels'])"
   ]
  },
  {
   "cell_type": "code",
   "execution_count": 17,
   "id": "3024fdbf",
   "metadata": {},
   "outputs": [
    {
     "name": "stdout",
     "output_type": "stream",
     "text": [
      "Number of metaphorical targets: 410\n",
      "Number of literal targets: 1229\n"
     ]
    }
   ],
   "source": [
    "print(\"Number of metaphorical targets: {}\".format(np.sum(labels)))\n",
    "print(\"Number of literal targets: {}\".format(len(labels) - np.sum(labels)))"
   ]
  },
  {
   "cell_type": "code",
   "execution_count": 18,
   "id": "187be7a9",
   "metadata": {},
   "outputs": [
    {
     "name": "stdout",
     "output_type": "stream",
     "text": [
      "Finished evaluating glove with RoBERTa + only best\n",
      "Finished evaluating glove with RoBERTa + top 25\n",
      "Finished evaluating glove with WordNet RoBERTa + only best\n",
      "Finished evaluating glove with WordNet RoBERTa + top 25\n",
      "Finished evaluating word2vec with RoBERTa + only best\n",
      "Finished evaluating word2vec with RoBERTa + top 25\n",
      "Finished evaluating word2vec with WordNet RoBERTa + only best\n",
      "Finished evaluating word2vec with WordNet RoBERTa + top 25\n",
      "Finished evaluating fasttext with RoBERTa + only best\n",
      "Finished evaluating fasttext with RoBERTa + top 25\n",
      "Finished evaluating fasttext with WordNet RoBERTa + only best\n",
      "Finished evaluating fasttext with WordNet RoBERTa + top 25\n"
     ]
    }
   ],
   "source": [
    "results = dict()\n",
    "for embedding_name, embedder in embedders.items():\n",
    "    for mode, candidate_finder in candidates.items():\n",
    "        classifier = BertMetaphorDetector(embedder, candidate_finder)\n",
    "        \n",
    "        scores_ = classifier.predict_scores(targets, contexts)\n",
    "        #mask = ~ np.isnan(scores_)\n",
    "        #scores = scores_[mask]\n",
    "        #labels = labels_[mask]\n",
    "        scores = scores_.copy()\n",
    "        labels = labels_.copy()\n",
    "        \n",
    "        results[(embedding_name, mode)] = evaluate(scores, labels)\n",
    "        print(\"Finished evaluating {} with {}\".format(embedding_name, mode))"
   ]
  },
  {
   "cell_type": "code",
   "execution_count": 19,
   "id": "298bc8fd",
   "metadata": {},
   "outputs": [
    {
     "data": {
      "text/html": [
       "<div>\n",
       "<style scoped>\n",
       "    .dataframe tbody tr th:only-of-type {\n",
       "        vertical-align: middle;\n",
       "    }\n",
       "\n",
       "    .dataframe tbody tr th {\n",
       "        vertical-align: top;\n",
       "    }\n",
       "\n",
       "    .dataframe thead th {\n",
       "        text-align: right;\n",
       "    }\n",
       "</style>\n",
       "<table border=\"1\" class=\"dataframe\">\n",
       "  <thead>\n",
       "    <tr style=\"text-align: right;\">\n",
       "      <th></th>\n",
       "      <th>fasttext</th>\n",
       "      <th>glove</th>\n",
       "      <th>word2vec</th>\n",
       "    </tr>\n",
       "  </thead>\n",
       "  <tbody>\n",
       "    <tr>\n",
       "      <th>RoBERTa + only best</th>\n",
       "      <td>0.428</td>\n",
       "      <td>0.428</td>\n",
       "      <td>0.412</td>\n",
       "    </tr>\n",
       "    <tr>\n",
       "      <th>RoBERTa + top 25</th>\n",
       "      <td>0.424</td>\n",
       "      <td>0.451</td>\n",
       "      <td>0.407</td>\n",
       "    </tr>\n",
       "    <tr>\n",
       "      <th>WordNet RoBERTa + only best</th>\n",
       "      <td>0.428</td>\n",
       "      <td>0.428</td>\n",
       "      <td>0.412</td>\n",
       "    </tr>\n",
       "    <tr>\n",
       "      <th>WordNet RoBERTa + top 25</th>\n",
       "      <td>0.423</td>\n",
       "      <td>0.452</td>\n",
       "      <td>0.407</td>\n",
       "    </tr>\n",
       "  </tbody>\n",
       "</table>\n",
       "</div>"
      ],
      "text/plain": [
       "                             fasttext  glove  word2vec\n",
       "RoBERTa + only best             0.428  0.428     0.412\n",
       "RoBERTa + top 25                0.424  0.451     0.407\n",
       "WordNet RoBERTa + only best     0.428  0.428     0.412\n",
       "WordNet RoBERTa + top 25        0.423  0.452     0.407"
      ]
     },
     "execution_count": 19,
     "metadata": {},
     "output_type": "execute_result"
    }
   ],
   "source": [
    "best_f1 = np.zeros((len(candidates.keys()), len(embedders.keys())))\n",
    "modes = list(sorted(candidates.keys()))\n",
    "embedding_names = list(sorted(embedders.keys()))\n",
    "\n",
    "for i, mode in enumerate(modes):\n",
    "    for j, embedding_name in enumerate(embedding_names):\n",
    "        current_results = results[(embedding_name, mode)]\n",
    "        best_tau = current_results['best_tau']\n",
    "        best_f1[i, j] = current_results['metrics'][best_tau]['f1']\n",
    "\n",
    "best_f1_table = pd.DataFrame(data=np.round(best_f1, 3), index=modes, columns=embedding_names)\n",
    "best_f1_table"
   ]
  },
  {
   "cell_type": "code",
   "execution_count": 20,
   "id": "602531f9",
   "metadata": {},
   "outputs": [
    {
     "name": "stdout",
     "output_type": "stream",
     "text": [
      "\\begin{tabular}{lrrr}\n",
      "\\toprule\n",
      "{} &  fasttext &  glove &  word2vec \\\\\n",
      "\\midrule\n",
      "RoBERTa + only best         &     0.428 &  0.428 &     0.412 \\\\\n",
      "RoBERTa + top 25            &     0.424 &  0.451 &     0.407 \\\\\n",
      "WordNet RoBERTa + only best &     0.428 &  0.428 &     0.412 \\\\\n",
      "WordNet RoBERTa + top 25    &     0.423 &  0.452 &     0.407 \\\\\n",
      "\\bottomrule\n",
      "\\end{tabular}\n",
      "\n"
     ]
    }
   ],
   "source": [
    "print(best_f1_table.to_latex())"
   ]
  },
  {
   "cell_type": "code",
   "execution_count": 21,
   "id": "61ee2307",
   "metadata": {},
   "outputs": [
    {
     "name": "stdout",
     "output_type": "stream",
     "text": [
      "Significant: True with p-values = 9.999000099990002e-05\n"
     ]
    }
   ],
   "source": [
    "metaphor_rate = np.sum(labels_) / len(labels_)\n",
    "\n",
    "best_results = results[(\"glove\", 'RoBERTa + only best')]\n",
    "best_tau = best_results['best_tau']\n",
    "predictions = best_results['metrics'][best_tau]['y_pred']\n",
    "labels = best_results['labels']\n",
    "\n",
    "num_comparisons = 1000\n",
    "p = approximate_randomization_test(\n",
    "    np.array([best_results['metrics'][best_tau]['f1']] * num_comparisons),\n",
    "    np.array([f1_score(np.random.binomial(1, metaphor_rate, size=(len(labels),)), labels)\n",
    "              for _ in range(num_comparisons)]),\n",
    "    np.mean\n",
    ")\n",
    "\n",
    "print(\"Significant: {} with p-values = {}\".format(p < 0.005, p))"
   ]
  },
  {
   "cell_type": "code",
   "execution_count": 22,
   "id": "d21d79fc",
   "metadata": {},
   "outputs": [],
   "source": [
    "display_res = results[('glove', 'RoBERTa + only best')]"
   ]
  },
  {
   "cell_type": "code",
   "execution_count": 23,
   "id": "82d2cecf",
   "metadata": {},
   "outputs": [
    {
     "data": {
      "image/png": "[encoded data removed]",
      "text/plain": [
       "<Figure size 1080x288 with 3 Axes>"
      ]
     },
     "metadata": {
      "needs_background": "light"
     },
     "output_type": "display_data"
    }
   ],
   "source": [
    "display_score_distribution(display_res['scores'], display_res['labels'], filename='bert_moh_unbalanced')"
   ]
  },
  {
   "cell_type": "code",
   "execution_count": null,
   "id": "2e64482f",
   "metadata": {},
   "outputs": [],
   "source": []
  },
  {
   "cell_type": "markdown",
   "id": "2f4b76a5",
   "metadata": {},
   "source": [
    "### 2nd experiment: MohX-Balanced data"
   ]
  },
  {
   "cell_type": "code",
   "execution_count": 24,
   "id": "db73c9f6",
   "metadata": {},
   "outputs": [],
   "source": [
    "metaphorical_indices, = np.where(labels_ == 1)\n",
    "literal_indices, = np.where(labels_ == 0)\n",
    "\n",
    "metaphorical_confidences = np.array([confidences[index] for index in metaphorical_indices])\n",
    "literal_confidences = np.array([confidences[index] for index in literal_indices])\n",
    "\n",
    "metaphorical_indices = metaphorical_indices[np.argsort(metaphorical_confidences)[::-1]]\n",
    "literal_indices = literal_indices[np.argsort(literal_confidences)[::-1]]\n",
    "\n",
    "metaphorical_targets = [targets[index] for index in metaphorical_indices]\n",
    "metaphorical_contexts = [contexts[index] for index in metaphorical_indices]\n",
    "metaphorical_labels = np.array([labels_[index] for index in metaphorical_indices])\n",
    "assert len(metaphorical_targets) == len(metaphorical_contexts) == len(metaphorical_labels)\n",
    "\n",
    "literal_targets = [targets[index] for index in literal_indices]\n",
    "literal_contexts = [contexts[index] for index in literal_indices]\n",
    "literal_labels = np.array([labels_[index] for index in literal_indices])\n",
    "assert len(literal_labels) == len(literal_contexts) == len(literal_targets)"
   ]
  },
  {
   "cell_type": "code",
   "execution_count": 25,
   "id": "3a76b506",
   "metadata": {},
   "outputs": [],
   "source": [
    "N = len(metaphorical_indices)\n",
    "\n",
    "balanced_targets = metaphorical_targets + literal_targets[:N]\n",
    "balanced_contexts = metaphorical_contexts + literal_contexts[:N]\n",
    "balanced_labels_ = np.concatenate([metaphorical_labels, literal_labels[:N]])"
   ]
  },
  {
   "cell_type": "code",
   "execution_count": 26,
   "id": "038c2073",
   "metadata": {},
   "outputs": [
    {
     "name": "stdout",
     "output_type": "stream",
     "text": [
      "Number of metaphorical targets: 410 (50.00%)\n",
      "Number of literal targets: 410\n"
     ]
    }
   ],
   "source": [
    "num_metaphorical = len(metaphorical_targets)\n",
    "total = len(metaphorical_targets) + len(literal_targets[:N])\n",
    "\n",
    "print(\"Number of metaphorical targets: {} ({:.2f}%)\".format(num_metaphorical, 100 * num_metaphorical / total))\n",
    "print(\"Number of literal targets: {}\".format(total - num_metaphorical))"
   ]
  },
  {
   "cell_type": "code",
   "execution_count": 27,
   "id": "d0067a31",
   "metadata": {},
   "outputs": [],
   "source": [
    "balanced_results = dict()\n",
    "for embedding_name, embedder in embedders.items():\n",
    "    for mode, candidate_finder in candidates.items():\n",
    "        classifier = BertMetaphorDetector(embedder, candidate_finder)\n",
    "        \n",
    "        scores_ = classifier.predict_scores(balanced_targets, balanced_contexts)\n",
    "        mask = ~ np.isnan(scores_)\n",
    "        scores = scores_[mask]\n",
    "        balanced_labels = balanced_labels_[mask]\n",
    "        \n",
    "        balanced_results[(embedding_name, mode)] = evaluate(scores, balanced_labels)"
   ]
  },
  {
   "cell_type": "code",
   "execution_count": 28,
   "id": "f03160c6",
   "metadata": {},
   "outputs": [
    {
     "data": {
      "text/html": [
       "<div>\n",
       "<style scoped>\n",
       "    .dataframe tbody tr th:only-of-type {\n",
       "        vertical-align: middle;\n",
       "    }\n",
       "\n",
       "    .dataframe tbody tr th {\n",
       "        vertical-align: top;\n",
       "    }\n",
       "\n",
       "    .dataframe thead th {\n",
       "        text-align: right;\n",
       "    }\n",
       "</style>\n",
       "<table border=\"1\" class=\"dataframe\">\n",
       "  <thead>\n",
       "    <tr style=\"text-align: right;\">\n",
       "      <th></th>\n",
       "      <th>fasttext</th>\n",
       "      <th>glove</th>\n",
       "      <th>word2vec</th>\n",
       "    </tr>\n",
       "  </thead>\n",
       "  <tbody>\n",
       "    <tr>\n",
       "      <th>RoBERTa + only best</th>\n",
       "      <td>0.683</td>\n",
       "      <td>0.685</td>\n",
       "      <td>0.657</td>\n",
       "    </tr>\n",
       "    <tr>\n",
       "      <th>RoBERTa + top 25</th>\n",
       "      <td>0.673</td>\n",
       "      <td>0.682</td>\n",
       "      <td>0.677</td>\n",
       "    </tr>\n",
       "    <tr>\n",
       "      <th>WordNet RoBERTa + only best</th>\n",
       "      <td>0.683</td>\n",
       "      <td>0.685</td>\n",
       "      <td>0.657</td>\n",
       "    </tr>\n",
       "    <tr>\n",
       "      <th>WordNet RoBERTa + top 25</th>\n",
       "      <td>0.671</td>\n",
       "      <td>0.681</td>\n",
       "      <td>0.677</td>\n",
       "    </tr>\n",
       "  </tbody>\n",
       "</table>\n",
       "</div>"
      ],
      "text/plain": [
       "                             fasttext  glove  word2vec\n",
       "RoBERTa + only best             0.683  0.685     0.657\n",
       "RoBERTa + top 25                0.673  0.682     0.677\n",
       "WordNet RoBERTa + only best     0.683  0.685     0.657\n",
       "WordNet RoBERTa + top 25        0.671  0.681     0.677"
      ]
     },
     "execution_count": 28,
     "metadata": {},
     "output_type": "execute_result"
    }
   ],
   "source": [
    "best_f1 = np.zeros((len(candidates.keys()), len(embedders.keys())))\n",
    "modes = list(sorted(candidates.keys()))\n",
    "embedding_names = list(sorted(embedders.keys()))\n",
    "\n",
    "for i, mode in enumerate(modes):\n",
    "    for j, embedding_name in enumerate(embedding_names):\n",
    "        current_results = balanced_results[(embedding_name, mode)]\n",
    "        best_tau = current_results['best_tau']\n",
    "        best_f1[i, j] = current_results['metrics'][best_tau]['f1']\n",
    "\n",
    "best_f1_table = pd.DataFrame(data=np.round(best_f1, 3), index=modes, columns=embedding_names)\n",
    "best_f1_table"
   ]
  },
  {
   "cell_type": "code",
   "execution_count": 29,
   "id": "2f135aeb",
   "metadata": {},
   "outputs": [
    {
     "name": "stdout",
     "output_type": "stream",
     "text": [
      "\\begin{tabular}{lrrr}\n",
      "\\toprule\n",
      "{} &  fasttext &  glove &  word2vec \\\\\n",
      "\\midrule\n",
      "RoBERTa + only best         &     0.683 &  0.685 &     0.657 \\\\\n",
      "RoBERTa + top 25            &     0.673 &  0.682 &     0.677 \\\\\n",
      "WordNet RoBERTa + only best &     0.683 &  0.685 &     0.657 \\\\\n",
      "WordNet RoBERTa + top 25    &     0.671 &  0.681 &     0.677 \\\\\n",
      "\\bottomrule\n",
      "\\end{tabular}\n",
      "\n"
     ]
    }
   ],
   "source": [
    "print(best_f1_table.to_latex())"
   ]
  },
  {
   "cell_type": "code",
   "execution_count": 30,
   "id": "567f8cc2",
   "metadata": {},
   "outputs": [
    {
     "name": "stdout",
     "output_type": "stream",
     "text": [
      "Significant: True with p-values = 9.999000099990002e-05\n"
     ]
    }
   ],
   "source": [
    "metaphor_rate = np.sum(balanced_labels_) / len(balanced_labels_)\n",
    "\n",
    "best_results = balanced_results[(\"glove\", 'RoBERTa + only best')]\n",
    "best_tau = best_results['best_tau']\n",
    "predictions = best_results['metrics'][best_tau]['y_pred']\n",
    "labels = best_results['labels']\n",
    "\n",
    "num_comparisons = 1000\n",
    "p = approximate_randomization_test(\n",
    "    np.array([best_results['metrics'][best_tau]['f1']] * num_comparisons),\n",
    "    np.array([f1_score(np.random.binomial(1, metaphor_rate, size=(len(labels),)), labels)\n",
    "              for _ in range(num_comparisons)]),\n",
    "    np.mean\n",
    ")\n",
    "\n",
    "print(\"Significant: {} with p-values = {}\".format(p < 0.005, p))"
   ]
  },
  {
   "cell_type": "code",
   "execution_count": 31,
   "id": "09a56bb3",
   "metadata": {},
   "outputs": [
    {
     "data": {
      "image/png": "[encoded data removed]",
      "text/plain": [
       "<Figure size 1080x288 with 3 Axes>"
      ]
     },
     "metadata": {
      "needs_background": "light"
     },
     "output_type": "display_data"
    }
   ],
   "source": [
    "glove_res = balanced_results[('glove', 'RoBERTa + top 25')]\n",
    "display_score_distribution(glove_res['scores'], glove_res['labels'], filename=\"bert_moh_balanced\")"
   ]
  },
  {
   "cell_type": "code",
   "execution_count": null,
   "id": "d6e1d082",
   "metadata": {},
   "outputs": [],
   "source": []
  },
  {
   "cell_type": "markdown",
   "id": "59dee83c",
   "metadata": {},
   "source": [
    "### 3rd experiment: VUA data"
   ]
  },
  {
   "cell_type": "code",
   "execution_count": 15,
   "id": "c57943a9",
   "metadata": {},
   "outputs": [],
   "source": [
    "vua_corpus_test = pd.read_csv(\"data/naacl_flp/vuamc_corpus_test.csv\")"
   ]
  },
  {
   "cell_type": "code",
   "execution_count": 33,
   "id": "e66d92d8",
   "metadata": {},
   "outputs": [
    {
     "data": {
      "application/vnd.jupyter.widget-view+json": {
       "model_id": "9f28849774744b92bf7ec97183c2f1f9",
       "version_major": 2,
       "version_minor": 0
      },
      "text/plain": [
       "  0%|          | 0/5873 [00:00<?, ?it/s]"
      ]
     },
     "metadata": {},
     "output_type": "display_data"
    }
   ],
   "source": [
    "vua_targets = []\n",
    "vua_contexts = []\n",
    "vua_labels = []\n",
    "vua_texts = []\n",
    "\n",
    "# Use whitespace tokenization from\n",
    "# https://stackoverflow.com/questions/65160277/spacy-tokenizer-with-only-whitespace-rule\n",
    "nlp = spacy.load('en_core_web_sm')\n",
    "nlp.tokenizer = Tokenizer(nlp.vocab, token_match=re.compile(r'\\S+').match)\n",
    "\n",
    "with open(\"data/naacl_flp/verb_tokens_test.csv\") as vua_test_tokens:\n",
    "    for line in tqdm(vua_test_tokens.readlines()):\n",
    "        identifier, label = line.strip().split(',')\n",
    "        txt_id, sentence_id, token_id = identifier.split('_')\n",
    "        sentence_id = int(sentence_id)\n",
    "        token_id = int(token_id) - 1\n",
    "        \n",
    "        assert token_id >= 0\n",
    "        \n",
    "        sentence = vua_corpus_test.loc[(vua_corpus_test['txt_id'] == txt_id) &\n",
    "                                       (vua_corpus_test['sentence_id'] == sentence_id)]\n",
    "        sentence = sentence['sentence_txt'].item()\n",
    "        vua_texts.append(sentence)\n",
    "        sentence = sentence.lower().split()\n",
    "        remove_metaphor_prefix = (lambda s: s[2:] if s.startswith('M_') else s)\n",
    "        sentence = [remove_metaphor_prefix(token) for token in sentence]\n",
    "        target = nlp(\" \".join(sentence))[token_id].lemma_\n",
    "        \n",
    "        sentence[token_id] = mask_token\n",
    "        context = \" \".join(sentence)\n",
    "        \n",
    "        vua_contexts.append(context)\n",
    "        vua_targets.append(target)\n",
    "        vua_labels.append(int(label))\n",
    "\n",
    "vua_labels_ = np.array(vua_labels)"
   ]
  },
  {
   "cell_type": "code",
   "execution_count": 34,
   "id": "746e4547",
   "metadata": {},
   "outputs": [
    {
     "name": "stdout",
     "output_type": "stream",
     "text": [
      "Number of metaphorical targets: 1761 (29.98%)\n",
      "Number of literal targets: 4112\n"
     ]
    }
   ],
   "source": [
    "num_metaphorical = np.sum(vua_labels_)\n",
    "total = len(vua_labels_)\n",
    "\n",
    "print(\"Number of metaphorical targets: {} ({:.2f}%)\".format(num_metaphorical, 100 * num_metaphorical / total))\n",
    "print(\"Number of literal targets: {}\".format(total - num_metaphorical))"
   ]
  },
  {
   "cell_type": "code",
   "execution_count": 35,
   "id": "da9ea093",
   "metadata": {},
   "outputs": [
    {
     "name": "stdout",
     "output_type": "stream",
     "text": [
      "Completed evaluating glove with RoBERTa + only best\n",
      "Completed evaluating glove with RoBERTa + top 25\n",
      "Completed evaluating glove with WordNet RoBERTa + only best\n",
      "Completed evaluating glove with WordNet RoBERTa + top 25\n",
      "Completed evaluating word2vec with RoBERTa + only best\n",
      "Completed evaluating word2vec with RoBERTa + top 25\n",
      "Completed evaluating word2vec with WordNet RoBERTa + only best\n",
      "Completed evaluating word2vec with WordNet RoBERTa + top 25\n",
      "Completed evaluating fasttext with RoBERTa + only best\n",
      "Completed evaluating fasttext with RoBERTa + top 25\n",
      "Completed evaluating fasttext with WordNet RoBERTa + only best\n",
      "Completed evaluating fasttext with WordNet RoBERTa + top 25\n"
     ]
    }
   ],
   "source": [
    "vua_results = dict()\n",
    "for embedding_name, embedder in embedders.items():\n",
    "    for mode, candidate_finder in candidates.items():\n",
    "        classifier = BertMetaphorDetector(embedder, candidate_finder)\n",
    "        \n",
    "        scores_ = classifier.predict_scores(vua_targets, vua_contexts)\n",
    "        #mask = ~ np.isnan(scores_)\n",
    "        #scores = scores_[mask]\n",
    "        #vua_labels = vua_labels_[mask]\n",
    "        scores = scores_.copy()\n",
    "        labels = vua_labels_.copy()\n",
    "        \n",
    "        vua_results[(embedding_name, mode)] = evaluate(scores, labels)\n",
    "        print(\"Completed evaluating {} with {}\".format(embedding_name, mode))"
   ]
  },
  {
   "cell_type": "code",
   "execution_count": 36,
   "id": "35ec3a9c",
   "metadata": {},
   "outputs": [
    {
     "data": {
      "text/html": [
       "<div>\n",
       "<style scoped>\n",
       "    .dataframe tbody tr th:only-of-type {\n",
       "        vertical-align: middle;\n",
       "    }\n",
       "\n",
       "    .dataframe tbody tr th {\n",
       "        vertical-align: top;\n",
       "    }\n",
       "\n",
       "    .dataframe thead th {\n",
       "        text-align: right;\n",
       "    }\n",
       "</style>\n",
       "<table border=\"1\" class=\"dataframe\">\n",
       "  <thead>\n",
       "    <tr style=\"text-align: right;\">\n",
       "      <th></th>\n",
       "      <th>precision</th>\n",
       "      <th>recall</th>\n",
       "      <th>f1</th>\n",
       "      <th>accuracy</th>\n",
       "    </tr>\n",
       "  </thead>\n",
       "  <tbody>\n",
       "    <tr>\n",
       "      <th>RoBERTa + only best</th>\n",
       "      <td>0.309</td>\n",
       "      <td>0.825</td>\n",
       "      <td>0.450</td>\n",
       "      <td>0.395</td>\n",
       "    </tr>\n",
       "    <tr>\n",
       "      <th>RoBERTa + top 25</th>\n",
       "      <td>0.326</td>\n",
       "      <td>0.867</td>\n",
       "      <td>0.474</td>\n",
       "      <td>0.423</td>\n",
       "    </tr>\n",
       "    <tr>\n",
       "      <th>WordNet RoBERTa + only best</th>\n",
       "      <td>0.309</td>\n",
       "      <td>0.825</td>\n",
       "      <td>0.450</td>\n",
       "      <td>0.395</td>\n",
       "    </tr>\n",
       "    <tr>\n",
       "      <th>WordNet RoBERTa + top 25</th>\n",
       "      <td>0.328</td>\n",
       "      <td>0.863</td>\n",
       "      <td>0.475</td>\n",
       "      <td>0.428</td>\n",
       "    </tr>\n",
       "  </tbody>\n",
       "</table>\n",
       "</div>"
      ],
      "text/plain": [
       "                             precision  recall     f1  accuracy\n",
       "RoBERTa + only best              0.309   0.825  0.450     0.395\n",
       "RoBERTa + top 25                 0.326   0.867  0.474     0.423\n",
       "WordNet RoBERTa + only best      0.309   0.825  0.450     0.395\n",
       "WordNet RoBERTa + top 25         0.328   0.863  0.475     0.428"
      ]
     },
     "execution_count": 36,
     "metadata": {},
     "output_type": "execute_result"
    }
   ],
   "source": [
    "vua_table = np.zeros((len(candidates.keys()), 4))\n",
    "modes = list(sorted(candidates.keys()))\n",
    "#embedding_names = list(sorted(embedders.keys()))\n",
    "metrics = [\"precision\", \"recall\", \"f1\", \"accuracy\"]\n",
    "\n",
    "for i, mode in enumerate(modes):\n",
    "    for j, metric in enumerate(metrics):\n",
    "        current_results = vua_results[(\"word2vec\", mode)]\n",
    "        best_tau = current_results['best_tau']\n",
    "        vua_table[i, j] = current_results['metrics'][best_tau][metric]\n",
    "\n",
    "best_vua_table = pd.DataFrame(data=np.round(vua_table, 3), index=modes, columns=metrics)\n",
    "best_vua_table"
   ]
  },
  {
   "cell_type": "code",
   "execution_count": 37,
   "id": "cdbaa846",
   "metadata": {},
   "outputs": [
    {
     "name": "stdout",
     "output_type": "stream",
     "text": [
      "\\begin{tabular}{lrrrr}\n",
      "\\toprule\n",
      "{} &  precision &  recall &     f1 &  accuracy \\\\\n",
      "\\midrule\n",
      "RoBERTa + only best         &      0.309 &   0.825 &  0.450 &     0.395 \\\\\n",
      "RoBERTa + top 25            &      0.326 &   0.867 &  0.474 &     0.423 \\\\\n",
      "WordNet RoBERTa + only best &      0.309 &   0.825 &  0.450 &     0.395 \\\\\n",
      "WordNet RoBERTa + top 25    &      0.328 &   0.863 &  0.475 &     0.428 \\\\\n",
      "\\bottomrule\n",
      "\\end{tabular}\n",
      "\n"
     ]
    }
   ],
   "source": [
    "print(best_vua_table.to_latex())"
   ]
  },
  {
   "cell_type": "code",
   "execution_count": 38,
   "id": "779cb832",
   "metadata": {},
   "outputs": [
    {
     "name": "stdout",
     "output_type": "stream",
     "text": [
      "Significant: True with p-values = 9.999000099990002e-05\n"
     ]
    }
   ],
   "source": [
    "metaphor_rate = np.sum(vua_labels_) / len(vua_labels_)\n",
    "\n",
    "best_results = vua_results[(\"word2vec\", 'RoBERTa + top 25')]\n",
    "best_tau = best_results['best_tau']\n",
    "predictions = best_results['metrics'][best_tau]['y_pred']\n",
    "labels = best_results['labels']\n",
    "\n",
    "num_comparisons = 1000\n",
    "p = approximate_randomization_test(\n",
    "    np.array([best_results['metrics'][best_tau]['f1']] * num_comparisons),\n",
    "    np.array([f1_score(np.random.binomial(1, metaphor_rate, size=(len(labels),)), labels)\n",
    "              for _ in range(num_comparisons)]),\n",
    "    np.mean\n",
    ")\n",
    "\n",
    "print(\"Significant: {} with p-values = {}\".format(p < 0.005, p))"
   ]
  },
  {
   "cell_type": "code",
   "execution_count": 39,
   "id": "2b050c11",
   "metadata": {},
   "outputs": [
    {
     "data": {
      "image/png": "[encoded data removed]",
      "text/plain": [
       "<Figure size 1080x288 with 3 Axes>"
      ]
     },
     "metadata": {
      "needs_background": "light"
     },
     "output_type": "display_data"
    }
   ],
   "source": [
    "display_res = vua_results[(\"word2vec\", 'RoBERTa + top 25')]\n",
    "display_score_distribution(display_res['scores'], display_res['labels'])"
   ]
  },
  {
   "cell_type": "markdown",
   "id": "8948ea18",
   "metadata": {},
   "source": [
    "### 4th Experiment: VUA All POS"
   ]
  },
  {
   "cell_type": "code",
   "execution_count": 16,
   "id": "a7d7c71a",
   "metadata": {},
   "outputs": [
    {
     "data": {
      "application/vnd.jupyter.widget-view+json": {
       "model_id": "1342cc0c27234dafac9ccc2d3a32f469",
       "version_major": 2,
       "version_minor": 0
      },
      "text/plain": [
       "  0%|          | 0/22196 [00:00<?, ?it/s]"
      ]
     },
     "metadata": {},
     "output_type": "display_data"
    }
   ],
   "source": [
    "vua_targets = []\n",
    "vua_contexts = []\n",
    "vua_labels = []\n",
    "vua_texts = []\n",
    "\n",
    "# Use whitespace tokenization from\n",
    "# https://stackoverflow.com/questions/65160277/spacy-tokenizer-with-only-whitespace-rule\n",
    "nlp = spacy.load('en_core_web_sm')\n",
    "nlp.tokenizer = Tokenizer(nlp.vocab, token_match=re.compile(r'\\S+').match)\n",
    "\n",
    "with open(\"data/naacl_flp/all_pos_token_test.csv\") as vua_test_tokens:\n",
    "    for line in tqdm(vua_test_tokens.readlines()):\n",
    "        identifier, label = line.strip().split(',')\n",
    "        txt_id, sentence_id, token_id = identifier.split('_')\n",
    "        sentence_id = int(sentence_id)\n",
    "        token_id = int(token_id) - 1\n",
    "        \n",
    "        assert token_id >= 0\n",
    "        \n",
    "        sentence = vua_corpus_test.loc[(vua_corpus_test['txt_id'] == txt_id) &\n",
    "                                       (vua_corpus_test['sentence_id'] == sentence_id)]\n",
    "        sentence = sentence['sentence_txt'].item()\n",
    "        vua_texts.append(sentence)\n",
    "        sentence = sentence.lower().split()\n",
    "        remove_metaphor_prefix = (lambda s: s[2:] if s.startswith('M_') else s)\n",
    "        sentence = [remove_metaphor_prefix(token) for token in sentence]\n",
    "        target = nlp(\" \".join(sentence))[token_id].lemma_\n",
    "        \n",
    "        sentence[token_id] = mask_token\n",
    "        context = \" \".join(sentence)\n",
    "        \n",
    "        vua_contexts.append(context)\n",
    "        vua_targets.append(target)\n",
    "        vua_labels.append(int(label))\n",
    "\n",
    "vua_labels_ = np.array(vua_labels)"
   ]
  },
  {
   "cell_type": "code",
   "execution_count": 17,
   "id": "7b4d18f1",
   "metadata": {},
   "outputs": [
    {
     "name": "stdout",
     "output_type": "stream",
     "text": [
      "Number of metaphorical targets: 3982 (17.94%)\n",
      "Number of literal targets: 18214\n"
     ]
    }
   ],
   "source": [
    "num_metaphorical = np.sum(vua_labels_)\n",
    "total = len(vua_labels_)\n",
    "\n",
    "print(\"Number of metaphorical targets: {} ({:.2f}%)\".format(num_metaphorical, 100 * num_metaphorical / total))\n",
    "print(\"Number of literal targets: {}\".format(total - num_metaphorical))"
   ]
  },
  {
   "cell_type": "code",
   "execution_count": 18,
   "id": "b76225eb",
   "metadata": {},
   "outputs": [
    {
     "name": "stdout",
     "output_type": "stream",
     "text": [
      "Completed evaluating glove with RoBERTa + only best\n",
      "Completed evaluating glove with RoBERTa + top 25\n",
      "Completed evaluating glove with WordNet RoBERTa + only best\n",
      "Completed evaluating glove with WordNet RoBERTa + top 25\n",
      "Completed evaluating word2vec with RoBERTa + only best\n",
      "Completed evaluating word2vec with RoBERTa + top 25\n",
      "Completed evaluating word2vec with WordNet RoBERTa + only best\n",
      "Completed evaluating word2vec with WordNet RoBERTa + top 25\n",
      "Completed evaluating fasttext with RoBERTa + only best\n",
      "Completed evaluating fasttext with RoBERTa + top 25\n",
      "Completed evaluating fasttext with WordNet RoBERTa + only best\n",
      "Completed evaluating fasttext with WordNet RoBERTa + top 25\n"
     ]
    }
   ],
   "source": [
    "vua_results = dict()\n",
    "for embedding_name, embedder in embedders.items():\n",
    "    for mode, candidate_finder in candidates.items():\n",
    "        classifier = BertMetaphorDetector(embedder, candidate_finder)\n",
    "        \n",
    "        scores_ = classifier.predict_scores(vua_targets, vua_contexts)\n",
    "        #mask = ~ np.isnan(scores_)\n",
    "        #scores = scores_[mask]\n",
    "        #vua_labels = vua_labels_[mask]\n",
    "        scores = scores_.copy()\n",
    "        labels = vua_labels_.copy()\n",
    "        \n",
    "        vua_results[(embedding_name, mode)] = evaluate(scores, labels)\n",
    "        print(\"Completed evaluating {} with {}\".format(embedding_name, mode))"
   ]
  },
  {
   "cell_type": "code",
   "execution_count": 19,
   "id": "5fee1b5f",
   "metadata": {},
   "outputs": [
    {
     "data": {
      "text/html": [
       "<div>\n",
       "<style scoped>\n",
       "    .dataframe tbody tr th:only-of-type {\n",
       "        vertical-align: middle;\n",
       "    }\n",
       "\n",
       "    .dataframe tbody tr th {\n",
       "        vertical-align: top;\n",
       "    }\n",
       "\n",
       "    .dataframe thead th {\n",
       "        text-align: right;\n",
       "    }\n",
       "</style>\n",
       "<table border=\"1\" class=\"dataframe\">\n",
       "  <thead>\n",
       "    <tr style=\"text-align: right;\">\n",
       "      <th></th>\n",
       "      <th>precision</th>\n",
       "      <th>recall</th>\n",
       "      <th>f1</th>\n",
       "      <th>accuracy</th>\n",
       "    </tr>\n",
       "  </thead>\n",
       "  <tbody>\n",
       "    <tr>\n",
       "      <th>RoBERTa + only best</th>\n",
       "      <td>0.183</td>\n",
       "      <td>0.791</td>\n",
       "      <td>0.297</td>\n",
       "      <td>0.328</td>\n",
       "    </tr>\n",
       "    <tr>\n",
       "      <th>RoBERTa + top 25</th>\n",
       "      <td>0.194</td>\n",
       "      <td>0.847</td>\n",
       "      <td>0.315</td>\n",
       "      <td>0.341</td>\n",
       "    </tr>\n",
       "    <tr>\n",
       "      <th>WordNet RoBERTa + only best</th>\n",
       "      <td>0.183</td>\n",
       "      <td>0.791</td>\n",
       "      <td>0.297</td>\n",
       "      <td>0.328</td>\n",
       "    </tr>\n",
       "    <tr>\n",
       "      <th>WordNet RoBERTa + top 25</th>\n",
       "      <td>0.194</td>\n",
       "      <td>0.850</td>\n",
       "      <td>0.316</td>\n",
       "      <td>0.340</td>\n",
       "    </tr>\n",
       "  </tbody>\n",
       "</table>\n",
       "</div>"
      ],
      "text/plain": [
       "                             precision  recall     f1  accuracy\n",
       "RoBERTa + only best              0.183   0.791  0.297     0.328\n",
       "RoBERTa + top 25                 0.194   0.847  0.315     0.341\n",
       "WordNet RoBERTa + only best      0.183   0.791  0.297     0.328\n",
       "WordNet RoBERTa + top 25         0.194   0.850  0.316     0.340"
      ]
     },
     "execution_count": 19,
     "metadata": {},
     "output_type": "execute_result"
    }
   ],
   "source": [
    "vua_table = np.zeros((len(candidates.keys()), 4))\n",
    "modes = list(sorted(candidates.keys()))\n",
    "#embedding_names = list(sorted(embedders.keys()))\n",
    "metrics = [\"precision\", \"recall\", \"f1\", \"accuracy\"]\n",
    "\n",
    "for i, mode in enumerate(modes):\n",
    "    for j, metric in enumerate(metrics):\n",
    "        current_results = vua_results[(\"word2vec\", mode)]\n",
    "        best_tau = current_results['best_tau']\n",
    "        vua_table[i, j] = current_results['metrics'][best_tau][metric]\n",
    "\n",
    "best_vua_table = pd.DataFrame(data=np.round(vua_table, 3), index=modes, columns=metrics)\n",
    "best_vua_table"
   ]
  },
  {
   "cell_type": "code",
   "execution_count": 20,
   "id": "afa75b3b",
   "metadata": {},
   "outputs": [
    {
     "name": "stdout",
     "output_type": "stream",
     "text": [
      "\\begin{tabular}{lrrrr}\n",
      "\\toprule\n",
      "{} &  precision &  recall &     f1 &  accuracy \\\\\n",
      "\\midrule\n",
      "RoBERTa + only best         &      0.183 &   0.791 &  0.297 &     0.328 \\\\\n",
      "RoBERTa + top 25            &      0.194 &   0.847 &  0.315 &     0.341 \\\\\n",
      "WordNet RoBERTa + only best &      0.183 &   0.791 &  0.297 &     0.328 \\\\\n",
      "WordNet RoBERTa + top 25    &      0.194 &   0.850 &  0.316 &     0.340 \\\\\n",
      "\\bottomrule\n",
      "\\end{tabular}\n",
      "\n"
     ]
    }
   ],
   "source": [
    "print(best_vua_table.to_latex())"
   ]
  },
  {
   "cell_type": "code",
   "execution_count": 21,
   "id": "e4d1c22a",
   "metadata": {},
   "outputs": [
    {
     "name": "stdout",
     "output_type": "stream",
     "text": [
      "Significant: True with p-value = 9.999000099990002e-05\n"
     ]
    }
   ],
   "source": [
    "metaphor_rate = np.sum(vua_labels_) / len(vua_labels_)\n",
    "\n",
    "best_results = vua_results[(\"word2vec\", 'RoBERTa + only best')]\n",
    "best_tau = best_results['best_tau']\n",
    "predictions = best_results['metrics'][best_tau]['y_pred']\n",
    "labels = best_results['labels']\n",
    "\n",
    "num_comparisons = 1000\n",
    "p = approximate_randomization_test(\n",
    "    np.array([best_results['metrics'][best_tau]['f1']] * num_comparisons),\n",
    "    np.array([f1_score(np.random.binomial(1, metaphor_rate, size=(len(labels),)), labels)\n",
    "              for _ in range(num_comparisons)]),\n",
    "    np.mean\n",
    ")\n",
    "\n",
    "print(\"Significant: {} with p-value = {}\".format(p < 0.005, p))"
   ]
  },
  {
   "cell_type": "code",
   "execution_count": 22,
   "id": "ac767318",
   "metadata": {},
   "outputs": [
    {
     "data": {
      "image/png": "[encoded data removed]",
      "text/plain": [
       "<Figure size 1080x288 with 3 Axes>"
      ]
     },
     "metadata": {
      "needs_background": "light"
     },
     "output_type": "display_data"
    }
   ],
   "source": [
    "display_res = vua_results[(\"word2vec\", 'RoBERTa + only best')]\n",
    "display_score_distribution(display_res['scores'], display_res['labels'])"
   ]
  },
  {
   "cell_type": "code",
   "execution_count": null,
   "id": "98f39142",
   "metadata": {},
   "outputs": [],
   "source": []
  }
 ],
 "metadata": {
  "kernelspec": {
   "display_name": "Python 3 (ipykernel)",
   "language": "python",
   "name": "python3"
  },
  "language_info": {
   "codemirror_mode": {
    "name": "ipython",
    "version": 3
   },
   "file_extension": ".py",
   "mimetype": "text/x-python",
   "name": "python",
   "nbconvert_exporter": "python",
   "pygments_lexer": "ipython3",
   "version": "3.8.11"
  }
 },
 "nbformat": 4,
 "nbformat_minor": 5
}
